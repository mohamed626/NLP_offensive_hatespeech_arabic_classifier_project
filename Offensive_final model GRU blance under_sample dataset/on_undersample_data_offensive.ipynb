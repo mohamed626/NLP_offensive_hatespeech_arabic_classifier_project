{
 "cells": [
  {
   "cell_type": "code",
   "execution_count": 1,
   "id": "475ca4d5",
   "metadata": {},
   "outputs": [],
   "source": [
    "import numpy as np # linear algebra\n",
    "import pandas as pd # data processing, CSV file I/O (e.g. pd.read_csv)\n",
    "from tqdm import tqdm\n",
    "from sklearn.model_selection import train_test_split\n",
    "import tensorflow as tf\n",
    "from keras.models import Sequential\n",
    "from keras.layers.recurrent import LSTM, GRU,SimpleRNN\n",
    "from keras.layers.core import Dense, Activation, Dropout\n",
    "from keras.layers.embeddings import Embedding\n",
    "from keras.layers.normalization import batch_normalization\n",
    "from keras.utils import np_utils\n",
    "from sklearn import preprocessing, decomposition, model_selection, metrics, pipeline\n",
    "from keras.layers import GlobalMaxPooling1D, Conv1D, MaxPooling1D, Flatten, Bidirectional, SpatialDropout1D\n",
    "from keras.preprocessing import sequence, text\n",
    "from keras.callbacks import EarlyStopping\n",
    "\n",
    "import pickle\n",
    "\n",
    "import matplotlib.pyplot as plt"
   ]
  },
  {
   "cell_type": "code",
   "execution_count": 2,
   "id": "4e152125",
   "metadata": {
    "scrolled": true
   },
   "outputs": [
    {
     "data": {
      "text/html": [
       "<div>\n",
       "<style scoped>\n",
       "    .dataframe tbody tr th:only-of-type {\n",
       "        vertical-align: middle;\n",
       "    }\n",
       "\n",
       "    .dataframe tbody tr th {\n",
       "        vertical-align: top;\n",
       "    }\n",
       "\n",
       "    .dataframe thead th {\n",
       "        text-align: right;\n",
       "    }\n",
       "</style>\n",
       "<table border=\"1\" class=\"dataframe\">\n",
       "  <thead>\n",
       "    <tr style=\"text-align: right;\">\n",
       "      <th></th>\n",
       "      <th>Unnamed: 0</th>\n",
       "      <th>tweet</th>\n",
       "      <th>offensive</th>\n",
       "      <th>vlg</th>\n",
       "      <th>vio</th>\n",
       "      <th>HS_HS1</th>\n",
       "      <th>HS_HS2</th>\n",
       "      <th>HS_HS3</th>\n",
       "      <th>HS_HS5</th>\n",
       "      <th>HS_HS6</th>\n",
       "      <th>HS_NOT_HS</th>\n",
       "    </tr>\n",
       "  </thead>\n",
       "  <tbody>\n",
       "    <tr>\n",
       "      <th>0</th>\n",
       "      <td>0</td>\n",
       "      <td>مستخدم ردينا ع التطنز  وجه مبتسم باستهزاء  قبض...</td>\n",
       "      <td>1</td>\n",
       "      <td>0</td>\n",
       "      <td>0</td>\n",
       "      <td>0</td>\n",
       "      <td>0</td>\n",
       "      <td>0</td>\n",
       "      <td>0</td>\n",
       "      <td>0</td>\n",
       "      <td>1</td>\n",
       "    </tr>\n",
       "    <tr>\n",
       "      <th>1</th>\n",
       "      <td>1</td>\n",
       "      <td>وصارت فطاير البقالات غذاء صحي  ابهام متجه لاسفل 🏻</td>\n",
       "      <td>0</td>\n",
       "      <td>0</td>\n",
       "      <td>0</td>\n",
       "      <td>0</td>\n",
       "      <td>0</td>\n",
       "      <td>0</td>\n",
       "      <td>0</td>\n",
       "      <td>0</td>\n",
       "      <td>1</td>\n",
       "    </tr>\n",
       "    <tr>\n",
       "      <th>2</th>\n",
       "      <td>2</td>\n",
       "      <td>مستخدم روحي لبريده تلقين اشباه كثير بس ماحد زي...</td>\n",
       "      <td>1</td>\n",
       "      <td>0</td>\n",
       "      <td>0</td>\n",
       "      <td>0</td>\n",
       "      <td>0</td>\n",
       "      <td>0</td>\n",
       "      <td>0</td>\n",
       "      <td>0</td>\n",
       "      <td>1</td>\n",
       "    </tr>\n",
       "    <tr>\n",
       "      <th>3</th>\n",
       "      <td>3</td>\n",
       "      <td>مستخدم مش باين حاجه خالص  وجه منصدم مش عارف بق...</td>\n",
       "      <td>0</td>\n",
       "      <td>0</td>\n",
       "      <td>0</td>\n",
       "      <td>0</td>\n",
       "      <td>0</td>\n",
       "      <td>0</td>\n",
       "      <td>0</td>\n",
       "      <td>0</td>\n",
       "      <td>1</td>\n",
       "    </tr>\n",
       "    <tr>\n",
       "      <th>4</th>\n",
       "      <td>4</td>\n",
       "      <td>اليوم الاثنين تصفيق  يقولك من المسلمين عندهم خ...</td>\n",
       "      <td>0</td>\n",
       "      <td>0</td>\n",
       "      <td>0</td>\n",
       "      <td>0</td>\n",
       "      <td>0</td>\n",
       "      <td>0</td>\n",
       "      <td>0</td>\n",
       "      <td>0</td>\n",
       "      <td>1</td>\n",
       "    </tr>\n",
       "  </tbody>\n",
       "</table>\n",
       "</div>"
      ],
      "text/plain": [
       "   Unnamed: 0                                              tweet  offensive  \\\n",
       "0           0  مستخدم ردينا ع التطنز  وجه مبتسم باستهزاء  قبض...          1   \n",
       "1           1  وصارت فطاير البقالات غذاء صحي  ابهام متجه لاسفل 🏻          0   \n",
       "2           2  مستخدم روحي لبريده تلقين اشباه كثير بس ماحد زي...          1   \n",
       "3           3  مستخدم مش باين حاجه خالص  وجه منصدم مش عارف بق...          0   \n",
       "4           4  اليوم الاثنين تصفيق  يقولك من المسلمين عندهم خ...          0   \n",
       "\n",
       "   vlg  vio  HS_HS1  HS_HS2  HS_HS3  HS_HS5  HS_HS6  HS_NOT_HS  \n",
       "0    0    0       0       0       0       0       0          1  \n",
       "1    0    0       0       0       0       0       0          1  \n",
       "2    0    0       0       0       0       0       0          1  \n",
       "3    0    0       0       0       0       0       0          1  \n",
       "4    0    0       0       0       0       0       0          1  "
      ]
     },
     "execution_count": 2,
     "metadata": {},
     "output_type": "execute_result"
    }
   ],
   "source": [
    "data =pd.read_csv(\"train_data_5.csv\")\n",
    "data.head()"
   ]
  },
  {
   "cell_type": "code",
   "execution_count": 4,
   "id": "01d10e89",
   "metadata": {},
   "outputs": [
    {
     "data": {
      "image/png": "[encoded data removed]",
      "text/plain": [
       "<Figure size 432x288 with 1 Axes>"
      ]
     },
     "metadata": {
      "needs_background": "light"
     },
     "output_type": "display_data"
    }
   ],
   "source": [
    "offinsive_data = data.offensive\n",
    "\n",
    "fig, ax = plt.subplots(1, 1)\n",
    "ax.hist(offinsive_data, bins=2, rwidth=.95)\n",
    "ax.set_title(\"offinsive data\")\n",
    "\n",
    "rects = ax.patches\n",
    "labels = ['not off', 'off']\n",
    "  \n",
    "for rect, label in zip(rects, labels):\n",
    "    height = rect.get_height()\n",
    "    ax.text(rect.get_x() + rect.get_width() / 2, height+0.01, label,\n",
    "            ha='center', va='bottom')\n",
    "  \n",
    "# Show plot\n",
    "plt.show()"
   ]
  },
  {
   "cell_type": "code",
   "execution_count": 5,
   "id": "d7bddf0e",
   "metadata": {},
   "outputs": [
    {
     "data": {
      "text/plain": [
       "(3065, 5491)"
      ]
     },
     "execution_count": 5,
     "metadata": {},
     "output_type": "execute_result"
    }
   ],
   "source": [
    "len(data.offensive[data.offensive==1]),len(data.offensive[data.offensive==0])"
   ]
  },
  {
   "cell_type": "code",
   "execution_count": 7,
   "id": "59f8afca",
   "metadata": {},
   "outputs": [
    {
     "data": {
      "text/plain": [
       "((3065, 2), (5491, 2))"
      ]
     },
     "execution_count": 7,
     "metadata": {},
     "output_type": "execute_result"
    }
   ],
   "source": [
    "#undersampling\n",
    "data_off=data[['tweet','offensive']]\n",
    "\n",
    "off= data_off[data_off.offensive==1]\n",
    "not_off= data_off[data_off.offensive==0]\n",
    "off.shape,not_off.shape"
   ]
  },
  {
   "cell_type": "code",
   "execution_count": 8,
   "id": "3b9f6489",
   "metadata": {},
   "outputs": [
    {
     "data": {
      "text/plain": [
       "((3065, 2), (3065, 2))"
      ]
     },
     "execution_count": 8,
     "metadata": {},
     "output_type": "execute_result"
    }
   ],
   "source": [
    "not_off=not_off.sample(n=off.shape[0])\n",
    "off.shape,not_off.shape"
   ]
  },
  {
   "cell_type": "code",
   "execution_count": 9,
   "id": "c8c79404",
   "metadata": {},
   "outputs": [
    {
     "name": "stdout",
     "output_type": "stream",
     "text": [
      "(6130, 2)\n"
     ]
    },
    {
     "data": {
      "text/html": [
       "<div>\n",
       "<style scoped>\n",
       "    .dataframe tbody tr th:only-of-type {\n",
       "        vertical-align: middle;\n",
       "    }\n",
       "\n",
       "    .dataframe tbody tr th {\n",
       "        vertical-align: top;\n",
       "    }\n",
       "\n",
       "    .dataframe thead th {\n",
       "        text-align: right;\n",
       "    }\n",
       "</style>\n",
       "<table border=\"1\" class=\"dataframe\">\n",
       "  <thead>\n",
       "    <tr style=\"text-align: right;\">\n",
       "      <th></th>\n",
       "      <th>tweet</th>\n",
       "      <th>offensive</th>\n",
       "    </tr>\n",
       "  </thead>\n",
       "  <tbody>\n",
       "    <tr>\n",
       "      <th>0</th>\n",
       "      <td>مستخدم ردينا ع التطنز  وجه مبتسم باستهزاء  قبض...</td>\n",
       "      <td>1</td>\n",
       "    </tr>\n",
       "    <tr>\n",
       "      <th>2</th>\n",
       "      <td>مستخدم روحي لبريده تلقين اشباه كثير بس ماحد زي...</td>\n",
       "      <td>1</td>\n",
       "    </tr>\n",
       "    <tr>\n",
       "      <th>8</th>\n",
       "      <td>خلاص اله يزعجكم خلاص  وجه بقناع طبي  بايع الكليجا</td>\n",
       "      <td>1</td>\n",
       "    </tr>\n",
       "    <tr>\n",
       "      <th>9</th>\n",
       "      <td>مستخدم هيلق و جحلط غير كذا مافي  وجه بقناع طبي</td>\n",
       "      <td>1</td>\n",
       "    </tr>\n",
       "    <tr>\n",
       "      <th>10</th>\n",
       "      <td>مستخدم تعبت ارد على كونت ترا متخلفين ورجعين حت...</td>\n",
       "      <td>1</td>\n",
       "    </tr>\n",
       "  </tbody>\n",
       "</table>\n",
       "</div>"
      ],
      "text/plain": [
       "                                                tweet  offensive\n",
       "0   مستخدم ردينا ع التطنز  وجه مبتسم باستهزاء  قبض...          1\n",
       "2   مستخدم روحي لبريده تلقين اشباه كثير بس ماحد زي...          1\n",
       "8   خلاص اله يزعجكم خلاص  وجه بقناع طبي  بايع الكليجا          1\n",
       "9     مستخدم هيلق و جحلط غير كذا مافي  وجه بقناع طبي           1\n",
       "10  مستخدم تعبت ارد على كونت ترا متخلفين ورجعين حت...          1"
      ]
     },
     "execution_count": 9,
     "metadata": {},
     "output_type": "execute_result"
    }
   ],
   "source": [
    "undersampled_data = pd.concat([off,not_off])\n",
    "print(undersampled_data.shape)\n",
    "undersampled_data.head()"
   ]
  },
  {
   "cell_type": "code",
   "execution_count": 10,
   "id": "5bc8b4dc",
   "metadata": {},
   "outputs": [
    {
     "data": {
      "image/png": "[encoded data removed]",
      "text/plain": [
       "<Figure size 432x288 with 1 Axes>"
      ]
     },
     "metadata": {
      "needs_background": "light"
     },
     "output_type": "display_data"
    }
   ],
   "source": [
    "fig, ax = plt.subplots(1, 1)\n",
    "ax.hist(undersampled_data.offensive, bins=2, rwidth=.95)\n",
    "ax.set_title(\"undersampled offinsive data\")\n",
    "\n",
    "rects = ax.patches\n",
    "labels = ['not off', 'off']\n",
    "  \n",
    "for rect, label in zip(rects, labels):\n",
    "    height = rect.get_height()\n",
    "    ax.text(rect.get_x() + rect.get_width() / 2, height+0.01, label, ha='center', va='bottom')\n",
    "  \n",
    "# Show plot\n",
    "plt.show()"
   ]
  },
  {
   "cell_type": "code",
   "execution_count": 13,
   "id": "e700a3bd",
   "metadata": {},
   "outputs": [
    {
     "data": {
      "text/html": [
       "<div>\n",
       "<style scoped>\n",
       "    .dataframe tbody tr th:only-of-type {\n",
       "        vertical-align: middle;\n",
       "    }\n",
       "\n",
       "    .dataframe tbody tr th {\n",
       "        vertical-align: top;\n",
       "    }\n",
       "\n",
       "    .dataframe thead th {\n",
       "        text-align: right;\n",
       "    }\n",
       "</style>\n",
       "<table border=\"1\" class=\"dataframe\">\n",
       "  <thead>\n",
       "    <tr style=\"text-align: right;\">\n",
       "      <th></th>\n",
       "      <th>tweet</th>\n",
       "      <th>offensive</th>\n",
       "    </tr>\n",
       "  </thead>\n",
       "  <tbody>\n",
       "    <tr>\n",
       "      <th>2586</th>\n",
       "      <td>RT مستخدم الرئيس السيسي يزور مقر القيادة الموح...</td>\n",
       "      <td>0</td>\n",
       "    </tr>\n",
       "    <tr>\n",
       "      <th>7134</th>\n",
       "      <td>RT مستخدم رتويت وفولو وتعال اريحك ي كلب  قرد ب...</td>\n",
       "      <td>1</td>\n",
       "    </tr>\n",
       "    <tr>\n",
       "      <th>4602</th>\n",
       "      <td>افهم مقصدي الخوة دمعة ونوح مو خوة الضحكة الجذب...</td>\n",
       "      <td>0</td>\n",
       "    </tr>\n",
       "    <tr>\n",
       "      <th>436</th>\n",
       "      <td>مستخدم خوله الكبير  وجه بقناع طبي</td>\n",
       "      <td>1</td>\n",
       "    </tr>\n",
       "    <tr>\n",
       "      <th>1135</th>\n",
       "      <td>مستخدم حرب شعواء من لجنة المسابقات بالدوري وال...</td>\n",
       "      <td>0</td>\n",
       "    </tr>\n",
       "  </tbody>\n",
       "</table>\n",
       "</div>"
      ],
      "text/plain": [
       "                                                  tweet  offensive\n",
       "2586  RT مستخدم الرئيس السيسي يزور مقر القيادة الموح...          0\n",
       "7134  RT مستخدم رتويت وفولو وتعال اريحك ي كلب  قرد ب...          1\n",
       "4602  افهم مقصدي الخوة دمعة ونوح مو خوة الضحكة الجذب...          0\n",
       "436                  مستخدم خوله الكبير  وجه بقناع طبي           1\n",
       "1135  مستخدم حرب شعواء من لجنة المسابقات بالدوري وال...          0"
      ]
     },
     "execution_count": 13,
     "metadata": {},
     "output_type": "execute_result"
    }
   ],
   "source": [
    "#shuffile dataframe\n",
    "undersampled_data=undersampled_data.sample(frac=1)\n",
    "undersampled_data.head()"
   ]
  },
  {
   "cell_type": "code",
   "execution_count": 15,
   "id": "9262a54b",
   "metadata": {},
   "outputs": [],
   "source": [
    "undersampled_data.to_csv('C:/Users/user/NLP/final model GRU blance under_sample dataset/on_undersample_data_offensive.csv',index=False)"
   ]
  },
  {
   "cell_type": "code",
   "execution_count": 2,
   "id": "29d054e0",
   "metadata": {},
   "outputs": [],
   "source": [
    "data=pd.read_csv('C:/Users/user/NLP/final model GRU blance under_sample dataset/on_undersample_data_offensive.csv')"
   ]
  },
  {
   "cell_type": "code",
   "execution_count": 13,
   "id": "f71ec325",
   "metadata": {},
   "outputs": [
    {
     "data": {
      "text/plain": [
       "((5394,), (736,))"
      ]
     },
     "execution_count": 13,
     "metadata": {},
     "output_type": "execute_result"
    }
   ],
   "source": [
    "X_train, X_test, y_train, y_test = train_test_split(data.tweet, data.offensive, test_size=0.12)\n",
    "X_train.shape,X_test.shape"
   ]
  },
  {
   "cell_type": "code",
   "execution_count": 14,
   "id": "cf7236c3",
   "metadata": {},
   "outputs": [
    {
     "data": {
      "text/plain": [
       "127"
      ]
     },
     "execution_count": 14,
     "metadata": {},
     "output_type": "execute_result"
    }
   ],
   "source": [
    "max_length= data.tweet.apply(lambda x: len(str(x).split())).max()\n",
    "max_length"
   ]
  },
  {
   "cell_type": "code",
   "execution_count": 15,
   "id": "af9a608e",
   "metadata": {},
   "outputs": [],
   "source": [
    "# Using Keras Tokenizer:\n",
    "from keras.preprocessing.text import Tokenizer\n",
    "from keras.preprocessing.sequence import pad_sequences\n",
    "token = Tokenizer()\n",
    "\n",
    "token.fit_on_texts(list(X_train))"
   ]
  },
  {
   "cell_type": "code",
   "execution_count": 16,
   "id": "1b31c391",
   "metadata": {},
   "outputs": [],
   "source": [
    "xtrain_seq = token.texts_to_sequences(X_train)\n",
    "xtrain_pad = pad_sequences(xtrain_seq, maxlen=max_length)"
   ]
  },
  {
   "cell_type": "code",
   "execution_count": 17,
   "id": "169e4156",
   "metadata": {},
   "outputs": [],
   "source": [
    "word_index = token.word_index\n",
    "vocab_size=len(word_index)+1"
   ]
  },
  {
   "cell_type": "code",
   "execution_count": 18,
   "id": "49ddf242",
   "metadata": {},
   "outputs": [
    {
     "name": "stdout",
     "output_type": "stream",
     "text": [
      "Model: \"sequential_2\"\n",
      "_________________________________________________________________\n",
      " Layer (type)                Output Shape              Param #   \n",
      "=================================================================\n",
      " embedding (Embedding)       (None, 127, 128)          3084672   \n",
      "                                                                 \n",
      " flatten_2 (Flatten)         (None, 16256)             0         \n",
      "                                                                 \n",
      " dense_2 (Dense)             (None, 1)                 16257     \n",
      "                                                                 \n",
      "=================================================================\n",
      "Total params: 3,100,929\n",
      "Trainable params: 3,100,929\n",
      "Non-trainable params: 0\n",
      "_________________________________________________________________\n",
      "None\n"
     ]
    }
   ],
   "source": [
    "embeded_vector_size = 128\n",
    "\n",
    "model = Sequential()\n",
    "model.add(Embedding(vocab_size, embeded_vector_size, input_length=max_length,name=\"embedding\"))\n",
    "model.add(Flatten())\n",
    "\n",
    "model.add(Dense(1, activation='sigmoid'))\n",
    "\n",
    "\n",
    "model.compile(optimizer='adam', loss='binary_crossentropy', metrics=['accuracy'])\n",
    "print(model.summary())"
   ]
  },
  {
   "cell_type": "code",
   "execution_count": 19,
   "id": "7b6d5883",
   "metadata": {},
   "outputs": [
    {
     "data": {
      "text/plain": [
       "<keras.callbacks.History at 0x1ffd06dbfa0>"
      ]
     },
     "execution_count": 19,
     "metadata": {},
     "output_type": "execute_result"
    }
   ],
   "source": [
    "model.fit(xtrain_pad, y_train, epochs=30,verbose=0)"
   ]
  },
  {
   "cell_type": "code",
   "execution_count": 21,
   "id": "40659547",
   "metadata": {},
   "outputs": [
    {
     "data": {
      "text/plain": [
       "24099"
      ]
     },
     "execution_count": 21,
     "metadata": {},
     "output_type": "execute_result"
    }
   ],
   "source": [
    "weights = model.get_layer('embedding').get_weights()[0]\n",
    "len(weights)"
   ]
  },
  {
   "cell_type": "code",
   "execution_count": 20,
   "id": "387fb4ed",
   "metadata": {},
   "outputs": [
    {
     "data": {
      "text/plain": [
       "((4692,), (702,))"
      ]
     },
     "execution_count": 20,
     "metadata": {},
     "output_type": "execute_result"
    }
   ],
   "source": [
    "X_train, X_val, y_train, y_val = train_test_split(X_train, y_train, test_size=0.13)\n",
    "X_train.shape,X_val.shape"
   ]
  },
  {
   "cell_type": "code",
   "execution_count": 22,
   "id": "6a1be33d",
   "metadata": {},
   "outputs": [],
   "source": [
    "token = Tokenizer()\n",
    "token.fit_on_texts(list(X_train) + list(X_val))\n",
    "\n",
    "xtrain_seq = token.texts_to_sequences(X_train)\n",
    "xvalid_seq = token.texts_to_sequences(X_val)\n",
    "xtrain_pad = pad_sequences(xtrain_seq, maxlen=max_length)\n",
    "xvalid_pad = pad_sequences(xvalid_seq, maxlen=max_length)"
   ]
  },
  {
   "cell_type": "code",
   "execution_count": 23,
   "id": "8317f090",
   "metadata": {},
   "outputs": [
    {
     "name": "stdout",
     "output_type": "stream",
     "text": [
      "Model: \"sequential_3\"\n",
      "_________________________________________________________________\n",
      " Layer (type)                Output Shape              Param #   \n",
      "=================================================================\n",
      " embedding (Embedding)       (None, 127, 128)          3084672   \n",
      "                                                                 \n",
      " spatial_dropout1d (SpatialD  (None, 127, 128)         0         \n",
      " ropout1D)                                                       \n",
      "                                                                 \n",
      " gru (GRU)                   (None, 300)               386100    \n",
      "                                                                 \n",
      " dense_3 (Dense)             (None, 1)                 301       \n",
      "                                                                 \n",
      "=================================================================\n",
      "Total params: 3,471,073\n",
      "Trainable params: 386,401\n",
      "Non-trainable params: 3,084,672\n",
      "_________________________________________________________________\n"
     ]
    }
   ],
   "source": [
    "model = Sequential()\n",
    "model.add(Embedding(vocab_size,\n",
    "                     128,\n",
    "                     weights=[weights],\n",
    "                     input_length=max_length,\n",
    "                     trainable=False))\n",
    "model.add(SpatialDropout1D(0.3))\n",
    "model.add(GRU(300))\n",
    "model.add(Dense(1, activation='sigmoid'))\n",
    "model.compile(loss='binary_crossentropy', optimizer='adam',metrics=['accuracy'])   \n",
    "    \n",
    "model.summary()"
   ]
  },
  {
   "cell_type": "code",
   "execution_count": 24,
   "id": "1634f37e",
   "metadata": {},
   "outputs": [
    {
     "name": "stdout",
     "output_type": "stream",
     "text": [
      "Epoch 1/10\n",
      "147/147 [==============================] - 142s 954ms/step - loss: 0.6544 - accuracy: 0.6221 - val_loss: 0.6322 - val_accuracy: 0.6538\n",
      "Epoch 2/10\n",
      "147/147 [==============================] - 136s 923ms/step - loss: 0.6147 - accuracy: 0.6626 - val_loss: 0.6217 - val_accuracy: 0.6510\n",
      "Epoch 3/10\n",
      "147/147 [==============================] - 137s 931ms/step - loss: 0.6097 - accuracy: 0.6662 - val_loss: 0.6109 - val_accuracy: 0.6681\n",
      "Epoch 4/10\n",
      "147/147 [==============================] - 137s 935ms/step - loss: 0.6015 - accuracy: 0.6748 - val_loss: 0.6232 - val_accuracy: 0.6709\n",
      "Epoch 5/10\n",
      "147/147 [==============================] - 133s 902ms/step - loss: 0.6018 - accuracy: 0.6735 - val_loss: 0.6090 - val_accuracy: 0.6809\n",
      "Epoch 6/10\n",
      "147/147 [==============================] - 136s 925ms/step - loss: 0.5932 - accuracy: 0.6867 - val_loss: 0.6238 - val_accuracy: 0.6610\n",
      "Epoch 7/10\n",
      "147/147 [==============================] - 136s 928ms/step - loss: 0.5877 - accuracy: 0.6865 - val_loss: 0.6068 - val_accuracy: 0.6724\n",
      "Epoch 8/10\n",
      "147/147 [==============================] - 139s 944ms/step - loss: 0.5836 - accuracy: 0.6969 - val_loss: 0.6391 - val_accuracy: 0.6481\n",
      "Epoch 9/10\n",
      "147/147 [==============================] - 137s 929ms/step - loss: 0.5803 - accuracy: 0.6963 - val_loss: 0.6184 - val_accuracy: 0.6581\n",
      "Epoch 10/10\n",
      "147/147 [==============================] - 135s 919ms/step - loss: 0.5709 - accuracy: 0.7074 - val_loss: 0.6128 - val_accuracy: 0.6766\n"
     ]
    }
   ],
   "source": [
    "history=model.fit(xtrain_pad, y_train, validation_data=[xvalid_pad,y_val],epochs = 10)"
   ]
  },
  {
   "cell_type": "code",
   "execution_count": 25,
   "id": "ac19f9ad",
   "metadata": {},
   "outputs": [],
   "source": [
    "pickle.dump(X_train, open('X_train', 'wb'))\n",
    "pickle.dump(y_train, open('y_train', 'wb'))\n",
    "\n",
    "pickle.dump(X_test, open('X_test', 'wb'))\n",
    "pickle.dump(y_test, open('y_test', 'wb'))\n",
    "\n",
    "pickle.dump(X_val, open('X_val', 'wb'))\n",
    "pickle.dump(y_val, open('y_val', 'wb'))\n",
    "\n",
    "\n",
    "pickle.dump(xtrain_pad, open('xtrain_pad', 'wb'))\n",
    "pickle.dump(xvalid_pad, open('xvalid_pad', 'wb'))\n"
   ]
  },
  {
   "cell_type": "code",
   "execution_count": 35,
   "id": "91ff0ad1",
   "metadata": {},
   "outputs": [
    {
     "name": "stdout",
     "output_type": "stream",
     "text": [
      "INFO:tensorflow:Assets written to: GRU_undersample_data_offensive\\assets\n"
     ]
    },
    {
     "name": "stderr",
     "output_type": "stream",
     "text": [
      "WARNING:absl:<keras.layers.recurrent.GRU object at 0x00000200DBA4A0D0> has the same name 'GRU' as a built-in Keras object. Consider renaming <class 'keras.layers.recurrent.GRU'> to avoid naming conflicts when loading with `tf.keras.models.load_model`. If renaming is not possible, pass the object in the `custom_objects` parameter of the load function.\n",
      "WARNING:absl:<keras.layers.recurrent.GRUCell object at 0x00000200DBA31580> has the same name 'GRUCell' as a built-in Keras object. Consider renaming <class 'keras.layers.recurrent.GRUCell'> to avoid naming conflicts when loading with `tf.keras.models.load_model`. If renaming is not possible, pass the object in the `custom_objects` parameter of the load function.\n"
     ]
    }
   ],
   "source": [
    "model.save('GRU_undersample_data_offensive')"
   ]
  },
  {
   "cell_type": "code",
   "execution_count": 26,
   "id": "a6dcb135",
   "metadata": {},
   "outputs": [
    {
     "data": {
      "image/png": "[encoded data removed]",
      "text/plain": [
       "<Figure size 432x288 with 1 Axes>"
      ]
     },
     "metadata": {
      "needs_background": "light"
     },
     "output_type": "display_data"
    },
    {
     "data": {
      "image/png": "[encoded data removed]",
      "text/plain": [
       "<Figure size 432x288 with 1 Axes>"
      ]
     },
     "metadata": {
      "needs_background": "light"
     },
     "output_type": "display_data"
    }
   ],
   "source": [
    "acc = history.history['accuracy']\n",
    "val_acc = history.history['val_accuracy']\n",
    "loss = history.history['loss']\n",
    "val_loss = history.history['val_loss']\n",
    "\n",
    "\n",
    "import matplotlib.pyplot as plt\n",
    "\n",
    "epochs = range(1, len(acc) + 1)\n",
    "\n",
    "plt.plot(epochs, acc, label='Training acc')\n",
    "plt.plot(epochs, val_acc, label='Validation acc')\n",
    "plt.title('Training and validation accuracy')\n",
    "plt.legend()\n",
    "\n",
    "plt.figure()\n",
    "\n",
    "plt.plot(epochs, loss, label='Training loss')\n",
    "plt.plot(epochs, val_loss, label='Validation loss')\n",
    "plt.title('Training and validation loss')\n",
    "plt.legend()\n",
    "\n",
    "plt.show()"
   ]
  },
  {
   "cell_type": "code",
   "execution_count": 27,
   "id": "9c43ca8d",
   "metadata": {},
   "outputs": [],
   "source": [
    "xtest_seq = token.texts_to_sequences(X_test)\n",
    "xtest_pad = pad_sequences(xtest_seq, maxlen=max_length)"
   ]
  },
  {
   "cell_type": "code",
   "execution_count": 28,
   "id": "d23abbce",
   "metadata": {},
   "outputs": [
    {
     "name": "stdout",
     "output_type": "stream",
     "text": [
      "23/23 [==============================] - 4s 157ms/step - loss: 0.6053 - accuracy: 0.6861\n"
     ]
    },
    {
     "data": {
      "text/plain": [
       "[0.6052953600883484, 0.686141312122345]"
      ]
     },
     "execution_count": 28,
     "metadata": {},
     "output_type": "execute_result"
    }
   ],
   "source": [
    "model.evaluate(xtest_pad,y_test)"
   ]
  },
  {
   "cell_type": "code",
   "execution_count": 30,
   "id": "b7890b8a",
   "metadata": {},
   "outputs": [],
   "source": [
    "from sklearn.metrics import confusion_matrix\n",
    "import seaborn as sn\n",
    "from sklearn.metrics import classification_report"
   ]
  },
  {
   "cell_type": "code",
   "execution_count": 31,
   "id": "4f2ee9f0",
   "metadata": {},
   "outputs": [
    {
     "name": "stdout",
     "output_type": "stream",
     "text": [
      "[[284  81]\n",
      " [150 221]]\n"
     ]
    }
   ],
   "source": [
    "y_pred=model.predict(xtest_pad)\n",
    "\n",
    "y_pred = np.around(y_pred)\n",
    "#Generate the confusion matrix\n",
    "cf_matrix = confusion_matrix(y_test, y_pred)\n",
    "\n",
    "print(cf_matrix)"
   ]
  },
  {
   "cell_type": "code",
   "execution_count": 32,
   "id": "e51d78de",
   "metadata": {},
   "outputs": [
    {
     "data": {
      "text/plain": [
       "<AxesSubplot:>"
      ]
     },
     "execution_count": 32,
     "metadata": {},
     "output_type": "execute_result"
    },
    {
     "data": {
      "image/png": "[encoded data removed]",
      "text/plain": [
       "<Figure size 720x504 with 2 Axes>"
      ]
     },
     "metadata": {
      "needs_background": "light"
     },
     "output_type": "display_data"
    }
   ],
   "source": [
    "plt.figure(figsize = (10,7))\n",
    "sn.heatmap(cf_matrix, annot=True,cmap='Blues', fmt='g')"
   ]
  },
  {
   "cell_type": "code",
   "execution_count": 34,
   "id": "7c1925ff",
   "metadata": {},
   "outputs": [
    {
     "name": "stdout",
     "output_type": "stream",
     "text": [
      "              precision    recall  f1-score   support\n",
      "\n",
      "         off       0.65      0.78      0.71       365\n",
      "         not       0.73      0.60      0.66       371\n",
      "\n",
      "    accuracy                           0.69       736\n",
      "   macro avg       0.69      0.69      0.68       736\n",
      "weighted avg       0.69      0.69      0.68       736\n",
      "\n"
     ]
    }
   ],
   "source": [
    "target_names = ['off', 'not']\n",
    "print(classification_report(y_test,  y_pred,target_names=target_names))"
   ]
  },
  {
   "cell_type": "code",
   "execution_count": null,
   "id": "42586430",
   "metadata": {},
   "outputs": [],
   "source": []
  }
 ],
 "metadata": {
  "kernelspec": {
   "display_name": "Python 3 (ipykernel)",
   "language": "python",
   "name": "python3"
  },
  "language_info": {
   "codemirror_mode": {
    "name": "ipython",
    "version": 3
   },
   "file_extension": ".py",
   "mimetype": "text/x-python",
   "name": "python",
   "nbconvert_exporter": "python",
   "pygments_lexer": "ipython3",
   "version": "3.9.11"
  }
 },
 "nbformat": 4,
 "nbformat_minor": 5
}
