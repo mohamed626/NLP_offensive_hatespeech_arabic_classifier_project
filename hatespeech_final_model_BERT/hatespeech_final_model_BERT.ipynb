{
 "cells": [
  {
   "cell_type": "code",
   "execution_count": 18,
   "id": "6a2e1b00",
   "metadata": {},
   "outputs": [],
   "source": [
    "import pandas as pd\n",
    "import numpy as np\n",
    "import matplotlib.pyplot as plt\n",
    "\n",
    "from sklearn.model_selection import train_test_split\n",
    "from sklearn.metrics import confusion_matrix\n",
    "import seaborn as sn\n",
    "from sklearn.metrics import classification_report\n",
    "\n",
    "import tensorflow as tf\n",
    "import tensorflow_hub as hub\n",
    "import tensorflow_text as text"
   ]
  },
  {
   "cell_type": "markdown",
   "id": "1d91c42c",
   "metadata": {},
   "source": [
    "## try on unbalanced data "
   ]
  },
  {
   "cell_type": "code",
   "execution_count": 19,
   "id": "46ab13fd",
   "metadata": {},
   "outputs": [
    {
     "data": {
      "text/html": [
       "<div>\n",
       "<style scoped>\n",
       "    .dataframe tbody tr th:only-of-type {\n",
       "        vertical-align: middle;\n",
       "    }\n",
       "\n",
       "    .dataframe tbody tr th {\n",
       "        vertical-align: top;\n",
       "    }\n",
       "\n",
       "    .dataframe thead th {\n",
       "        text-align: right;\n",
       "    }\n",
       "</style>\n",
       "<table border=\"1\" class=\"dataframe\">\n",
       "  <thead>\n",
       "    <tr style=\"text-align: right;\">\n",
       "      <th></th>\n",
       "      <th>tweet</th>\n",
       "      <th>OFF</th>\n",
       "      <th>VLG</th>\n",
       "      <th>VIO</th>\n",
       "      <th>HS_HS1</th>\n",
       "      <th>HS_HS2</th>\n",
       "      <th>HS_HS3</th>\n",
       "      <th>HS_HS5</th>\n",
       "      <th>HS_HS6</th>\n",
       "      <th>HS_NOT_HS</th>\n",
       "    </tr>\n",
       "  </thead>\n",
       "  <tbody>\n",
       "    <tr>\n",
       "      <th>0</th>\n",
       "      <td>وصارت فطاير البقالات غذاء صحي ابهام متجه لاسفل 🏻</td>\n",
       "      <td>0</td>\n",
       "      <td>0</td>\n",
       "      <td>0</td>\n",
       "      <td>0</td>\n",
       "      <td>0</td>\n",
       "      <td>0</td>\n",
       "      <td>0</td>\n",
       "      <td>0</td>\n",
       "      <td>1</td>\n",
       "    </tr>\n",
       "    <tr>\n",
       "      <th>1</th>\n",
       "      <td>مستخدم روحي لبريده تلقين اشباه كثير ماحد زيكم...</td>\n",
       "      <td>1</td>\n",
       "      <td>0</td>\n",
       "      <td>0</td>\n",
       "      <td>0</td>\n",
       "      <td>0</td>\n",
       "      <td>0</td>\n",
       "      <td>0</td>\n",
       "      <td>0</td>\n",
       "      <td>1</td>\n",
       "    </tr>\n",
       "    <tr>\n",
       "      <th>2</th>\n",
       "      <td>مستخدم مش باين حاجه خالص وجه منصدم مش عارف بق...</td>\n",
       "      <td>0</td>\n",
       "      <td>0</td>\n",
       "      <td>0</td>\n",
       "      <td>0</td>\n",
       "      <td>0</td>\n",
       "      <td>0</td>\n",
       "      <td>0</td>\n",
       "      <td>0</td>\n",
       "      <td>1</td>\n",
       "    </tr>\n",
       "    <tr>\n",
       "      <th>3</th>\n",
       "      <td>اليوم الاثنين تصفيق يقولك المسلمين عندهم خاله...</td>\n",
       "      <td>0</td>\n",
       "      <td>0</td>\n",
       "      <td>0</td>\n",
       "      <td>0</td>\n",
       "      <td>0</td>\n",
       "      <td>0</td>\n",
       "      <td>0</td>\n",
       "      <td>0</td>\n",
       "      <td>1</td>\n",
       "    </tr>\n",
       "    <tr>\n",
       "      <th>4</th>\n",
       "      <td>حمدلله ماحطها فمي اساسا وجه بقناع طبي وجه مشمئز</td>\n",
       "      <td>0</td>\n",
       "      <td>0</td>\n",
       "      <td>0</td>\n",
       "      <td>0</td>\n",
       "      <td>0</td>\n",
       "      <td>0</td>\n",
       "      <td>0</td>\n",
       "      <td>0</td>\n",
       "      <td>1</td>\n",
       "    </tr>\n",
       "  </tbody>\n",
       "</table>\n",
       "</div>"
      ],
      "text/plain": [
       "                                               tweet  OFF  VLG  VIO  HS_HS1  \\\n",
       "0  وصارت فطاير البقالات غذاء صحي ابهام متجه لاسفل 🏻     0    0    0       0   \n",
       "1   مستخدم روحي لبريده تلقين اشباه كثير ماحد زيكم...    1    0    0       0   \n",
       "2   مستخدم مش باين حاجه خالص وجه منصدم مش عارف بق...    0    0    0       0   \n",
       "3   اليوم الاثنين تصفيق يقولك المسلمين عندهم خاله...    0    0    0       0   \n",
       "4   حمدلله ماحطها فمي اساسا وجه بقناع طبي وجه مشمئز     0    0    0       0   \n",
       "\n",
       "   HS_HS2  HS_HS3  HS_HS5  HS_HS6  HS_NOT_HS  \n",
       "0       0       0       0       0          1  \n",
       "1       0       0       0       0          1  \n",
       "2       0       0       0       0          1  \n",
       "3       0       0       0       0          1  \n",
       "4       0       0       0       0          1  "
      ]
     },
     "execution_count": 19,
     "metadata": {},
     "output_type": "execute_result"
    }
   ],
   "source": [
    "train_data_imb=pd.read_csv('HT9.csv')\n",
    "train_data_imb.head()"
   ]
  },
  {
   "cell_type": "code",
   "execution_count": 32,
   "id": "c3a11a83",
   "metadata": {},
   "outputs": [
    {
     "data": {
      "text/html": [
       "<div>\n",
       "<style scoped>\n",
       "    .dataframe tbody tr th:only-of-type {\n",
       "        vertical-align: middle;\n",
       "    }\n",
       "\n",
       "    .dataframe tbody tr th {\n",
       "        vertical-align: top;\n",
       "    }\n",
       "\n",
       "    .dataframe thead th {\n",
       "        text-align: right;\n",
       "    }\n",
       "</style>\n",
       "<table border=\"1\" class=\"dataframe\">\n",
       "  <thead>\n",
       "    <tr style=\"text-align: right;\">\n",
       "      <th></th>\n",
       "      <th>tweet</th>\n",
       "      <th>OFF</th>\n",
       "      <th>HS</th>\n",
       "      <th>VLG</th>\n",
       "      <th>VIO</th>\n",
       "      <th>HS_HS1</th>\n",
       "      <th>HS_HS2</th>\n",
       "      <th>HS_HS3</th>\n",
       "      <th>HS_HS4</th>\n",
       "      <th>HS_HS5</th>\n",
       "      <th>HS_HS6</th>\n",
       "      <th>IS_HT</th>\n",
       "    </tr>\n",
       "  </thead>\n",
       "  <tbody>\n",
       "    <tr>\n",
       "      <th>0</th>\n",
       "      <td>مستخدم Ø¹Ø´Ø§Ù† ØªØµØ¯Ù‚ÙˆÙ†ÙŠ Ø§Ø°Ø§ Ù‚Ù„Øª ...</td>\n",
       "      <td>0</td>\n",
       "      <td>NOT_HS</td>\n",
       "      <td>0</td>\n",
       "      <td>0</td>\n",
       "      <td>0</td>\n",
       "      <td>0</td>\n",
       "      <td>0</td>\n",
       "      <td>0</td>\n",
       "      <td>0</td>\n",
       "      <td>0</td>\n",
       "      <td>1</td>\n",
       "    </tr>\n",
       "    <tr>\n",
       "      <th>1</th>\n",
       "      <td>مستخدم Ø¹Ø·Ù†ÙŠ Ø¨Ù„ÙˆÙƒ Ø¨Ø§Ù„Ù„Ù‡ðŸ¤¢</td>\n",
       "      <td>0</td>\n",
       "      <td>NOT_HS</td>\n",
       "      <td>0</td>\n",
       "      <td>0</td>\n",
       "      <td>0</td>\n",
       "      <td>0</td>\n",
       "      <td>0</td>\n",
       "      <td>0</td>\n",
       "      <td>0</td>\n",
       "      <td>0</td>\n",
       "      <td>1</td>\n",
       "    </tr>\n",
       "    <tr>\n",
       "      <th>2</th>\n",
       "      <td>Ø¨Ø§ÙŠØ¹ Ø§Ù„ÙƒÙ„ÙŠØ¬Ø§ Ù…Ø²ÙŠÙˆÙ† Ù…Ø§Ø´Ø§Ø¡...</td>\n",
       "      <td>1</td>\n",
       "      <td>HS6</td>\n",
       "      <td>0</td>\n",
       "      <td>0</td>\n",
       "      <td>0</td>\n",
       "      <td>0</td>\n",
       "      <td>0</td>\n",
       "      <td>0</td>\n",
       "      <td>0</td>\n",
       "      <td>1</td>\n",
       "      <td>0</td>\n",
       "    </tr>\n",
       "    <tr>\n",
       "      <th>3</th>\n",
       "      <td>مستخدم Ø³ÙƒØªÙŠ ÙŠÙ„Ù‡ Ù„Ø§ØªØ±Ø§Ø¯Ø¯ÙŠÙ†ÙŠðŸ˜¡</td>\n",
       "      <td>0</td>\n",
       "      <td>NOT_HS</td>\n",
       "      <td>0</td>\n",
       "      <td>0</td>\n",
       "      <td>0</td>\n",
       "      <td>0</td>\n",
       "      <td>0</td>\n",
       "      <td>0</td>\n",
       "      <td>0</td>\n",
       "      <td>0</td>\n",
       "      <td>1</td>\n",
       "    </tr>\n",
       "    <tr>\n",
       "      <th>4</th>\n",
       "      <td>مستخدم ÙˆØ´ ÙÙŠÙƒ Ù…Ø³ØªØ´Ø± ðŸ˜¤</td>\n",
       "      <td>0</td>\n",
       "      <td>NOT_HS</td>\n",
       "      <td>0</td>\n",
       "      <td>0</td>\n",
       "      <td>0</td>\n",
       "      <td>0</td>\n",
       "      <td>0</td>\n",
       "      <td>0</td>\n",
       "      <td>0</td>\n",
       "      <td>0</td>\n",
       "      <td>1</td>\n",
       "    </tr>\n",
       "  </tbody>\n",
       "</table>\n",
       "</div>"
      ],
      "text/plain": [
       "                                               tweet  OFF      HS  VLG  VIO  \\\n",
       "0   مستخدم Ø¹Ø´Ø§Ù† ØªØµØ¯Ù‚ÙˆÙ†ÙŠ Ø§Ø°Ø§ Ù‚Ù„Øª ...    0  NOT_HS    0    0   \n",
       "1            مستخدم Ø¹Ø·Ù†ÙŠ Ø¨Ù„ÙˆÙƒ Ø¨Ø§Ù„Ù„Ù‡ðŸ¤¢    0  NOT_HS    0    0   \n",
       "2   Ø¨Ø§ÙŠØ¹ Ø§Ù„ÙƒÙ„ÙŠØ¬Ø§ Ù…Ø²ÙŠÙˆÙ† Ù…Ø§Ø´Ø§Ø¡...    1     HS6    0    0   \n",
       "3    مستخدم Ø³ÙƒØªÙŠ ÙŠÙ„Ù‡ Ù„Ø§ØªØ±Ø§Ø¯Ø¯ÙŠÙ†ÙŠðŸ˜¡    0  NOT_HS    0    0   \n",
       "4                 مستخدم ÙˆØ´ ÙÙŠÙƒ Ù…Ø³ØªØ´Ø± ðŸ˜¤    0  NOT_HS    0    0   \n",
       "\n",
       "   HS_HS1  HS_HS2  HS_HS3  HS_HS4  HS_HS5  HS_HS6  IS_HT  \n",
       "0       0       0       0       0       0       0      1  \n",
       "1       0       0       0       0       0       0      1  \n",
       "2       0       0       0       0       0       1      0  \n",
       "3       0       0       0       0       0       0      1  \n",
       "4       0       0       0       0       0       0      1  "
      ]
     },
     "execution_count": 32,
     "metadata": {},
     "output_type": "execute_result"
    }
   ],
   "source": [
    "test_data=pd.read_csv('off_comp_test.csv',encoding='utf-8')\n",
    "test_data.head()"
   ]
  },
  {
   "cell_type": "code",
   "execution_count": 22,
   "id": "e4e57c6d",
   "metadata": {},
   "outputs": [
    {
     "data": {
      "text/plain": [
       "((7699,), (856,))"
      ]
     },
     "execution_count": 22,
     "metadata": {},
     "output_type": "execute_result"
    }
   ],
   "source": [
    "X_train, X_val, Y_train, Y_val = train_test_split(train_data_imb['tweet'],train_data_imb.HS_NOT_HS, test_size=0.1)\n",
    "X_train.shape, X_val.shape "
   ]
  },
  {
   "cell_type": "code",
   "execution_count": 23,
   "id": "fbf6d49f",
   "metadata": {},
   "outputs": [],
   "source": [
    "bert_preprocess = hub.KerasLayer(\"https://tfhub.dev/tensorflow/bert_en_uncased_preprocess/3\")\n",
    "bert_encoder = hub.KerasLayer(\"https://tfhub.dev/tensorflow/bert_en_uncased_L-12_H-768_A-12/4\")"
   ]
  },
  {
   "cell_type": "code",
   "execution_count": 24,
   "id": "d258dc5d",
   "metadata": {},
   "outputs": [],
   "source": [
    "text_input = tf.keras.layers.Input(shape=(), dtype=tf.string, name='text')\n",
    "preprocessed_text = bert_preprocess(text_input)\n",
    "outputs = bert_encoder(preprocessed_text)\n",
    "\n",
    "l = tf.keras.layers.Dropout(0.1, name=\"dropout1\")(outputs['sequence_output'])\n",
    "l = tf.keras.layers.Dense(128, activation='relu', name=\"D1\")(l)\n",
    "\n",
    "l = tf.keras.layers.Dropout(0.1, name=\"dropout2\")(l)\n",
    "l = tf.keras.layers.Dense(64, activation='relu', name=\"D2\")(l)\n",
    "\n",
    "l = tf.keras.layers.Dense(1, activation='sigmoid', name=\"output\")(l)\n",
    "\n",
    "model = tf.keras.Model(inputs=[text_input], outputs = [l])"
   ]
  },
  {
   "cell_type": "code",
   "execution_count": 25,
   "id": "58809ccc",
   "metadata": {},
   "outputs": [
    {
     "name": "stdout",
     "output_type": "stream",
     "text": [
      "Model: \"model_1\"\n",
      "__________________________________________________________________________________________________\n",
      " Layer (type)                   Output Shape         Param #     Connected to                     \n",
      "==================================================================================================\n",
      " text (InputLayer)              [(None,)]            0           []                               \n",
      "                                                                                                  \n",
      " keras_layer_2 (KerasLayer)     {'input_mask': (Non  0           ['text[0][0]']                   \n",
      "                                e, 128),                                                          \n",
      "                                 'input_word_ids':                                                \n",
      "                                (None, 128),                                                      \n",
      "                                 'input_type_ids':                                                \n",
      "                                (None, 128)}                                                      \n",
      "                                                                                                  \n",
      " keras_layer_3 (KerasLayer)     {'default': (None,   109482241   ['keras_layer_2[0][0]',          \n",
      "                                768),                             'keras_layer_2[0][1]',          \n",
      "                                 'encoder_outputs':               'keras_layer_2[0][2]']          \n",
      "                                 [(None, 128, 768),                                               \n",
      "                                 (None, 128, 768),                                                \n",
      "                                 (None, 128, 768),                                                \n",
      "                                 (None, 128, 768),                                                \n",
      "                                 (None, 128, 768),                                                \n",
      "                                 (None, 128, 768),                                                \n",
      "                                 (None, 128, 768),                                                \n",
      "                                 (None, 128, 768),                                                \n",
      "                                 (None, 128, 768),                                                \n",
      "                                 (None, 128, 768),                                                \n",
      "                                 (None, 128, 768),                                                \n",
      "                                 (None, 128, 768)],                                               \n",
      "                                 'sequence_output':                                               \n",
      "                                 (None, 128, 768),                                                \n",
      "                                 'pooled_output': (                                               \n",
      "                                None, 768)}                                                       \n",
      "                                                                                                  \n",
      " dropout1 (Dropout)             (None, 128, 768)     0           ['keras_layer_3[0][14]']         \n",
      "                                                                                                  \n",
      " D1 (Dense)                     (None, 128, 128)     98432       ['dropout1[0][0]']               \n",
      "                                                                                                  \n",
      " dropout2 (Dropout)             (None, 128, 128)     0           ['D1[0][0]']                     \n",
      "                                                                                                  \n",
      " D2 (Dense)                     (None, 128, 64)      8256        ['dropout2[0][0]']               \n",
      "                                                                                                  \n",
      " output (Dense)                 (None, 128, 1)       65          ['D2[0][0]']                     \n",
      "                                                                                                  \n",
      "==================================================================================================\n",
      "Total params: 109,588,994\n",
      "Trainable params: 106,753\n",
      "Non-trainable params: 109,482,241\n",
      "__________________________________________________________________________________________________\n"
     ]
    }
   ],
   "source": [
    "model.summary()"
   ]
  },
  {
   "cell_type": "code",
   "execution_count": 26,
   "id": "b58f081c",
   "metadata": {},
   "outputs": [
    {
     "name": "stdout",
     "output_type": "stream",
     "text": [
      "Epoch 1/30\n",
      "241/241 [==============================] - 107s 415ms/step - loss: 0.3304 - accuracy: 0.8920 - val_loss: 0.3177 - val_accuracy: 0.8925\n",
      "Epoch 2/30\n",
      "241/241 [==============================] - 101s 418ms/step - loss: 0.3095 - accuracy: 0.8922 - val_loss: 0.3033 - val_accuracy: 0.8925\n",
      "Epoch 3/30\n",
      "241/241 [==============================] - 102s 425ms/step - loss: 0.3045 - accuracy: 0.8922 - val_loss: 0.3003 - val_accuracy: 0.8925\n",
      "Epoch 4/30\n",
      "241/241 [==============================] - 102s 423ms/step - loss: 0.3012 - accuracy: 0.8922 - val_loss: 0.2976 - val_accuracy: 0.8926\n",
      "Epoch 5/30\n",
      "241/241 [==============================] - 102s 422ms/step - loss: 0.2974 - accuracy: 0.8922 - val_loss: 0.3111 - val_accuracy: 0.8925\n",
      "Epoch 6/30\n",
      "241/241 [==============================] - 102s 423ms/step - loss: 0.2992 - accuracy: 0.8923 - val_loss: 0.2959 - val_accuracy: 0.8926\n",
      "Epoch 7/30\n",
      "241/241 [==============================] - 102s 425ms/step - loss: 0.2955 - accuracy: 0.8923 - val_loss: 0.3108 - val_accuracy: 0.8926\n",
      "Epoch 8/30\n",
      "241/241 [==============================] - 102s 424ms/step - loss: 0.2951 - accuracy: 0.8924 - val_loss: 0.3011 - val_accuracy: 0.8927\n",
      "Epoch 9/30\n",
      "241/241 [==============================] - 102s 424ms/step - loss: 0.2952 - accuracy: 0.8923 - val_loss: 0.2929 - val_accuracy: 0.8927\n",
      "Epoch 10/30\n",
      "241/241 [==============================] - 103s 426ms/step - loss: 0.2937 - accuracy: 0.8924 - val_loss: 0.2974 - val_accuracy: 0.8926\n",
      "Epoch 11/30\n",
      "241/241 [==============================] - 105s 435ms/step - loss: 0.2913 - accuracy: 0.8925 - val_loss: 0.2945 - val_accuracy: 0.8928\n",
      "Epoch 12/30\n",
      "241/241 [==============================] - 103s 425ms/step - loss: 0.2905 - accuracy: 0.8926 - val_loss: 0.2912 - val_accuracy: 0.8929\n",
      "Epoch 13/30\n",
      "241/241 [==============================] - 103s 426ms/step - loss: 0.2902 - accuracy: 0.8924 - val_loss: 0.2978 - val_accuracy: 0.8931\n",
      "Epoch 14/30\n",
      "241/241 [==============================] - 102s 424ms/step - loss: 0.2911 - accuracy: 0.8925 - val_loss: 0.2954 - val_accuracy: 0.8929\n",
      "Epoch 15/30\n",
      "241/241 [==============================] - 102s 425ms/step - loss: 0.2915 - accuracy: 0.8928 - val_loss: 0.2900 - val_accuracy: 0.8932\n",
      "Epoch 16/30\n",
      "241/241 [==============================] - 102s 425ms/step - loss: 0.2877 - accuracy: 0.8928 - val_loss: 0.2956 - val_accuracy: 0.8929\n",
      "Epoch 17/30\n",
      "241/241 [==============================] - 102s 424ms/step - loss: 0.2881 - accuracy: 0.8927 - val_loss: 0.2926 - val_accuracy: 0.8931\n",
      "Epoch 18/30\n",
      "241/241 [==============================] - 102s 425ms/step - loss: 0.2884 - accuracy: 0.8927 - val_loss: 0.3011 - val_accuracy: 0.8927\n",
      "Epoch 19/30\n",
      "241/241 [==============================] - 103s 427ms/step - loss: 0.2884 - accuracy: 0.8931 - val_loss: 0.2904 - val_accuracy: 0.8934\n",
      "Epoch 20/30\n",
      "241/241 [==============================] - 103s 426ms/step - loss: 0.2883 - accuracy: 0.8927 - val_loss: 0.2924 - val_accuracy: 0.8928\n",
      "Epoch 21/30\n",
      "241/241 [==============================] - 103s 427ms/step - loss: 0.2859 - accuracy: 0.8928 - val_loss: 0.2900 - val_accuracy: 0.8934\n",
      "Epoch 22/30\n",
      "241/241 [==============================] - 103s 426ms/step - loss: 0.2859 - accuracy: 0.8929 - val_loss: 0.2958 - val_accuracy: 0.8931\n",
      "Epoch 23/30\n",
      "241/241 [==============================] - 103s 426ms/step - loss: 0.2840 - accuracy: 0.8932 - val_loss: 0.2908 - val_accuracy: 0.8934\n",
      "Epoch 24/30\n",
      "241/241 [==============================] - 104s 433ms/step - loss: 0.2861 - accuracy: 0.8931 - val_loss: 0.2980 - val_accuracy: 0.8924\n",
      "Epoch 25/30\n",
      "241/241 [==============================] - 103s 426ms/step - loss: 0.2846 - accuracy: 0.8934 - val_loss: 0.2928 - val_accuracy: 0.8929\n",
      "Epoch 26/30\n",
      "241/241 [==============================] - 103s 425ms/step - loss: 0.2827 - accuracy: 0.8935 - val_loss: 0.3172 - val_accuracy: 0.8828\n",
      "Epoch 27/30\n",
      "241/241 [==============================] - 104s 433ms/step - loss: 0.2835 - accuracy: 0.8931 - val_loss: 0.2917 - val_accuracy: 0.8930\n",
      "Epoch 28/30\n",
      "241/241 [==============================] - 104s 431ms/step - loss: 0.2807 - accuracy: 0.8935 - val_loss: 0.2964 - val_accuracy: 0.8937\n",
      "Epoch 29/30\n",
      "241/241 [==============================] - 103s 426ms/step - loss: 0.2825 - accuracy: 0.8934 - val_loss: 0.2907 - val_accuracy: 0.8940\n",
      "Epoch 30/30\n",
      "241/241 [==============================] - 103s 429ms/step - loss: 0.2807 - accuracy: 0.8931 - val_loss: 0.2912 - val_accuracy: 0.8942\n"
     ]
    }
   ],
   "source": [
    "model.compile(optimizer='adam',\n",
    "              loss='binary_crossentropy',\n",
    "              metrics=['accuracy'])\n",
    "history= model.fit(X_train, Y_train, validation_data=(X_val, Y_val), epochs=30)"
   ]
  },
  {
   "cell_type": "code",
   "execution_count": 27,
   "id": "a7e1b04a",
   "metadata": {},
   "outputs": [
    {
     "data": {
      "image/png": "[encoded data removed]",
      "text/plain": [
       "<Figure size 432x288 with 1 Axes>"
      ]
     },
     "metadata": {
      "needs_background": "light"
     },
     "output_type": "display_data"
    },
    {
     "data": {
      "image/png": "[encoded data removed]",
      "text/plain": [
       "<Figure size 432x288 with 1 Axes>"
      ]
     },
     "metadata": {
      "needs_background": "light"
     },
     "output_type": "display_data"
    }
   ],
   "source": [
    "acc = history.history['accuracy']\n",
    "val_acc = history.history['val_accuracy']\n",
    "loss = history.history['loss']\n",
    "val_loss = history.history['val_loss']\n",
    "\n",
    "\n",
    "\n",
    "epochs = range(1, len(acc) + 1)\n",
    "\n",
    "plt.plot(epochs, acc, label='Training acc')\n",
    "plt.plot(epochs, val_acc, label='Validation acc')\n",
    "plt.title('Training and validation accuracy')\n",
    "plt.legend()\n",
    "\n",
    "plt.figure()\n",
    "\n",
    "plt.plot(epochs, loss, label='Training loss')\n",
    "plt.plot(epochs, val_loss, label='Validation loss')\n",
    "plt.title('Training and validation loss')\n",
    "plt.legend()\n",
    "\n",
    "plt.show()"
   ]
  },
  {
   "cell_type": "code",
   "execution_count": 33,
   "id": "a1d4ee7c",
   "metadata": {},
   "outputs": [
    {
     "name": "stdout",
     "output_type": "stream",
     "text": [
      "40/40 [==============================] - 15s 360ms/step - loss: 0.3754 - accuracy: 0.9137\n"
     ]
    },
    {
     "data": {
      "text/plain": [
       "[0.3753966689109802, 0.9136795997619629]"
      ]
     },
     "execution_count": 33,
     "metadata": {},
     "output_type": "execute_result"
    }
   ],
   "source": [
    "model.evaluate(test_data.tweet,test_data.IS_HT)"
   ]
  },
  {
   "cell_type": "code",
   "execution_count": null,
   "id": "7910c378",
   "metadata": {},
   "outputs": [],
   "source": []
  }
 ],
 "metadata": {
  "kernelspec": {
   "display_name": "Python 3 (ipykernel)",
   "language": "python",
   "name": "python3"
  },
  "language_info": {
   "codemirror_mode": {
    "name": "ipython",
    "version": 3
   },
   "file_extension": ".py",
   "mimetype": "text/x-python",
   "name": "python",
   "nbconvert_exporter": "python",
   "pygments_lexer": "ipython3",
   "version": "3.9.7"
  }
 },
 "nbformat": 4,
 "nbformat_minor": 5
}
