{
 "cells": [
  {
   "cell_type": "code",
   "execution_count": 1,
   "id": "6a2e1b00",
   "metadata": {},
   "outputs": [],
   "source": [
    "import pandas as pd\n",
    "import numpy as np\n",
    "import matplotlib.pyplot as plt\n",
    "\n",
    "from sklearn.model_selection import train_test_split\n",
    "from sklearn.metrics import confusion_matrix\n",
    "import seaborn as sn\n",
    "from sklearn.metrics import classification_report\n",
    "\n",
    "import tensorflow as tf\n",
    "import tensorflow_hub as hub\n",
    "import tensorflow_text as text"
   ]
  },
  {
   "cell_type": "markdown",
   "id": "1d91c42c",
   "metadata": {},
   "source": [
    "## try on unbalanced data "
   ]
  },
  {
   "cell_type": "code",
   "execution_count": 29,
   "id": "46ab13fd",
   "metadata": {},
   "outputs": [
    {
     "data": {
      "text/html": [
       "<div>\n",
       "<style scoped>\n",
       "    .dataframe tbody tr th:only-of-type {\n",
       "        vertical-align: middle;\n",
       "    }\n",
       "\n",
       "    .dataframe tbody tr th {\n",
       "        vertical-align: top;\n",
       "    }\n",
       "\n",
       "    .dataframe thead th {\n",
       "        text-align: right;\n",
       "    }\n",
       "</style>\n",
       "<table border=\"1\" class=\"dataframe\">\n",
       "  <thead>\n",
       "    <tr style=\"text-align: right;\">\n",
       "      <th></th>\n",
       "      <th>tweet</th>\n",
       "      <th>OFF</th>\n",
       "      <th>VLG</th>\n",
       "      <th>VIO</th>\n",
       "      <th>HS_HS1</th>\n",
       "      <th>HS_HS2</th>\n",
       "      <th>HS_HS3</th>\n",
       "      <th>HS_HS5</th>\n",
       "      <th>HS_HS6</th>\n",
       "      <th>HS_NOT_HS</th>\n",
       "    </tr>\n",
       "  </thead>\n",
       "  <tbody>\n",
       "    <tr>\n",
       "      <th>0</th>\n",
       "      <td>وصارت فطاير البقالات غذاء صحي ابهام متجه لاسفل 🏻</td>\n",
       "      <td>0</td>\n",
       "      <td>0</td>\n",
       "      <td>0</td>\n",
       "      <td>0</td>\n",
       "      <td>0</td>\n",
       "      <td>0</td>\n",
       "      <td>0</td>\n",
       "      <td>0</td>\n",
       "      <td>1</td>\n",
       "    </tr>\n",
       "    <tr>\n",
       "      <th>1</th>\n",
       "      <td>مستخدم روحي لبريده تلقين اشباه كثير ماحد زيكم...</td>\n",
       "      <td>1</td>\n",
       "      <td>0</td>\n",
       "      <td>0</td>\n",
       "      <td>0</td>\n",
       "      <td>0</td>\n",
       "      <td>0</td>\n",
       "      <td>0</td>\n",
       "      <td>0</td>\n",
       "      <td>1</td>\n",
       "    </tr>\n",
       "    <tr>\n",
       "      <th>2</th>\n",
       "      <td>مستخدم مش باين حاجه خالص وجه منصدم مش عارف بق...</td>\n",
       "      <td>0</td>\n",
       "      <td>0</td>\n",
       "      <td>0</td>\n",
       "      <td>0</td>\n",
       "      <td>0</td>\n",
       "      <td>0</td>\n",
       "      <td>0</td>\n",
       "      <td>0</td>\n",
       "      <td>1</td>\n",
       "    </tr>\n",
       "    <tr>\n",
       "      <th>3</th>\n",
       "      <td>اليوم الاثنين تصفيق يقولك المسلمين عندهم خاله...</td>\n",
       "      <td>0</td>\n",
       "      <td>0</td>\n",
       "      <td>0</td>\n",
       "      <td>0</td>\n",
       "      <td>0</td>\n",
       "      <td>0</td>\n",
       "      <td>0</td>\n",
       "      <td>0</td>\n",
       "      <td>1</td>\n",
       "    </tr>\n",
       "    <tr>\n",
       "      <th>4</th>\n",
       "      <td>حمدلله ماحطها فمي اساسا وجه بقناع طبي وجه مشمئز</td>\n",
       "      <td>0</td>\n",
       "      <td>0</td>\n",
       "      <td>0</td>\n",
       "      <td>0</td>\n",
       "      <td>0</td>\n",
       "      <td>0</td>\n",
       "      <td>0</td>\n",
       "      <td>0</td>\n",
       "      <td>1</td>\n",
       "    </tr>\n",
       "  </tbody>\n",
       "</table>\n",
       "</div>"
      ],
      "text/plain": [
       "                                               tweet  OFF  VLG  VIO  HS_HS1  \\\n",
       "0  وصارت فطاير البقالات غذاء صحي ابهام متجه لاسفل 🏻     0    0    0       0   \n",
       "1   مستخدم روحي لبريده تلقين اشباه كثير ماحد زيكم...    1    0    0       0   \n",
       "2   مستخدم مش باين حاجه خالص وجه منصدم مش عارف بق...    0    0    0       0   \n",
       "3   اليوم الاثنين تصفيق يقولك المسلمين عندهم خاله...    0    0    0       0   \n",
       "4   حمدلله ماحطها فمي اساسا وجه بقناع طبي وجه مشمئز     0    0    0       0   \n",
       "\n",
       "   HS_HS2  HS_HS3  HS_HS5  HS_HS6  HS_NOT_HS  \n",
       "0       0       0       0       0          1  \n",
       "1       0       0       0       0          1  \n",
       "2       0       0       0       0          1  \n",
       "3       0       0       0       0          1  \n",
       "4       0       0       0       0          1  "
      ]
     },
     "execution_count": 29,
     "metadata": {},
     "output_type": "execute_result"
    }
   ],
   "source": [
    "train_data_imb=pd.read_csv('HT7.csv')\n",
    "train_data_imb.head()"
   ]
  },
  {
   "cell_type": "code",
   "execution_count": 30,
   "id": "c3a11a83",
   "metadata": {},
   "outputs": [
    {
     "data": {
      "text/html": [
       "<div>\n",
       "<style scoped>\n",
       "    .dataframe tbody tr th:only-of-type {\n",
       "        vertical-align: middle;\n",
       "    }\n",
       "\n",
       "    .dataframe tbody tr th {\n",
       "        vertical-align: top;\n",
       "    }\n",
       "\n",
       "    .dataframe thead th {\n",
       "        text-align: right;\n",
       "    }\n",
       "</style>\n",
       "<table border=\"1\" class=\"dataframe\">\n",
       "  <thead>\n",
       "    <tr style=\"text-align: right;\">\n",
       "      <th></th>\n",
       "      <th>tweet</th>\n",
       "      <th>OFF</th>\n",
       "      <th>HS</th>\n",
       "      <th>VLG</th>\n",
       "      <th>VIO</th>\n",
       "    </tr>\n",
       "  </thead>\n",
       "  <tbody>\n",
       "    <tr>\n",
       "      <th>0</th>\n",
       "      <td>Ø¯Ø§Ù„ÙŠØ§ Ù…Ø¨Ø§Ø±Ùƒ Ù…Ø§Ø¯Ø±ÙŠ Ù„ÙŠØ´ ØªÙ‚Ø...</td>\n",
       "      <td>0</td>\n",
       "      <td>NOT_HS</td>\n",
       "      <td>0</td>\n",
       "      <td>0</td>\n",
       "    </tr>\n",
       "    <tr>\n",
       "      <th>1</th>\n",
       "      <td>مستخدم Ø§Ø¨Ø¯ÙŠØª Ø§Ù„Ø³Ù†Ø§Ø¨ Ø§Ù„Ø¬Ø¯ÙŠØ¯ â...</td>\n",
       "      <td>0</td>\n",
       "      <td>NOT_HS</td>\n",
       "      <td>0</td>\n",
       "      <td>0</td>\n",
       "    </tr>\n",
       "    <tr>\n",
       "      <th>2</th>\n",
       "      <td>مستخدم Ù‡ÙŠÙŠÙ‡ ÙˆØ§Ù„Ù„Ù‡ ÙˆØ§Ø§Ø§ÙŠØ¯Ø¯ ðŸ”...</td>\n",
       "      <td>0</td>\n",
       "      <td>NOT_HS</td>\n",
       "      <td>0</td>\n",
       "      <td>0</td>\n",
       "    </tr>\n",
       "    <tr>\n",
       "      <th>3</th>\n",
       "      <td>Ø§ÙƒÙŠØ¯ Ø§Ø مسجل Ø³ Ø´ÙŠ ðŸ˜¤</td>\n",
       "      <td>0</td>\n",
       "      <td>NOT_HS</td>\n",
       "      <td>0</td>\n",
       "      <td>0</td>\n",
       "    </tr>\n",
       "    <tr>\n",
       "      <th>4</th>\n",
       "      <td>Ù…Ø§Ø¨ÙŠ Ø´ÙŠ Ø§Ù„Ø­ÙŠÙ† ØºÙŠØ± ÙØ±Ø§Ø´ÙŠðŸ˜£</td>\n",
       "      <td>0</td>\n",
       "      <td>NOT_HS</td>\n",
       "      <td>0</td>\n",
       "      <td>0</td>\n",
       "    </tr>\n",
       "  </tbody>\n",
       "</table>\n",
       "</div>"
      ],
      "text/plain": [
       "                                               tweet  OFF      HS  VLG  VIO\n",
       "0   Ø¯Ø§Ù„ÙŠØ§ Ù…Ø¨Ø§Ø±Ùƒ Ù…Ø§Ø¯Ø±ÙŠ Ù„ÙŠØ´ ØªÙ‚Ø...    0  NOT_HS    0    0\n",
       "1   مستخدم Ø§Ø¨Ø¯ÙŠØª Ø§Ù„Ø³Ù†Ø§Ø¨ Ø§Ù„Ø¬Ø¯ÙŠØ¯ â...    0  NOT_HS    0    0\n",
       "2   مستخدم Ù‡ÙŠÙŠÙ‡ ÙˆØ§Ù„Ù„Ù‡ ÙˆØ§Ø§Ø§ÙŠØ¯Ø¯ ðŸ”...    0  NOT_HS    0    0\n",
       "3                    Ø§ÙƒÙŠØ¯ Ø§Ø مسجل Ø³ Ø´ÙŠ ðŸ˜¤     0  NOT_HS    0    0\n",
       "4     Ù…Ø§Ø¨ÙŠ Ø´ÙŠ Ø§Ù„Ø­ÙŠÙ† ØºÙŠØ± ÙØ±Ø§Ø´ÙŠðŸ˜£    0  NOT_HS    0    0"
      ]
     },
     "execution_count": 30,
     "metadata": {},
     "output_type": "execute_result"
    }
   ],
   "source": [
    "test_data=pd.read_csv('off_comp_test.csv')\n",
    "test_data.head()"
   ]
  },
  {
   "cell_type": "code",
   "execution_count": 33,
   "id": "e4e57c6d",
   "metadata": {},
   "outputs": [
    {
     "data": {
      "text/plain": [
       "((7699,), (856,))"
      ]
     },
     "execution_count": 33,
     "metadata": {},
     "output_type": "execute_result"
    }
   ],
   "source": [
    "X_train, X_val, Y_train, Y_val = train_test_split(train_data_imb['tweet'],train_data_imb['OFF'], test_size=0.1)\n",
    "X_train.shape, X_val.shape "
   ]
  },
  {
   "cell_type": "code",
   "execution_count": 37,
   "id": "fbf6d49f",
   "metadata": {},
   "outputs": [],
   "source": [
    "bert_preprocess = hub.KerasLayer(\"https://tfhub.dev/tensorflow/bert_en_uncased_preprocess/3\")\n",
    "bert_encoder = hub.KerasLayer(\"https://tfhub.dev/tensorflow/bert_en_uncased_L-12_H-768_A-12/4\")"
   ]
  },
  {
   "cell_type": "code",
   "execution_count": 38,
   "id": "d258dc5d",
   "metadata": {},
   "outputs": [],
   "source": [
    "text_input = tf.keras.layers.Input(shape=(), dtype=tf.string, name='text')\n",
    "preprocessed_text = bert_preprocess(text_input)\n",
    "outputs = bert_encoder(preprocessed_text)\n",
    "\n",
    "l = tf.keras.layers.Dropout(0.1, name=\"dropout1\")(outputs['sequence_output'])\n",
    "l = tf.keras.layers.Dense(128, activation='relu', name=\"D1\")(l)\n",
    "\n",
    "l = tf.keras.layers.Dropout(0.1, name=\"dropout2\")(l)\n",
    "l = tf.keras.layers.Dense(64, activation='relu', name=\"D2\")(l)\n",
    "\n",
    "l = tf.keras.layers.Dense(1, activation='sigmoid', name=\"output\")(l)\n",
    "\n",
    "model = tf.keras.Model(inputs=[text_input], outputs = [l])"
   ]
  },
  {
   "cell_type": "code",
   "execution_count": 39,
   "id": "58809ccc",
   "metadata": {},
   "outputs": [
    {
     "name": "stdout",
     "output_type": "stream",
     "text": [
      "Model: \"model\"\n",
      "__________________________________________________________________________________________________\n",
      " Layer (type)                   Output Shape         Param #     Connected to                     \n",
      "==================================================================================================\n",
      " text (InputLayer)              [(None,)]            0           []                               \n",
      "                                                                                                  \n",
      " keras_layer (KerasLayer)       {'input_word_ids':   0           ['text[0][0]']                   \n",
      "                                (None, 128),                                                      \n",
      "                                 'input_mask': (Non                                               \n",
      "                                e, 128),                                                          \n",
      "                                 'input_type_ids':                                                \n",
      "                                (None, 128)}                                                      \n",
      "                                                                                                  \n",
      " keras_layer_1 (KerasLayer)     {'pooled_output': (  109482241   ['keras_layer[0][0]',            \n",
      "                                None, 768),                       'keras_layer[0][1]',            \n",
      "                                 'encoder_outputs':               'keras_layer[0][2]']            \n",
      "                                 [(None, 128, 768),                                               \n",
      "                                 (None, 128, 768),                                                \n",
      "                                 (None, 128, 768),                                                \n",
      "                                 (None, 128, 768),                                                \n",
      "                                 (None, 128, 768),                                                \n",
      "                                 (None, 128, 768),                                                \n",
      "                                 (None, 128, 768),                                                \n",
      "                                 (None, 128, 768),                                                \n",
      "                                 (None, 128, 768),                                                \n",
      "                                 (None, 128, 768),                                                \n",
      "                                 (None, 128, 768),                                                \n",
      "                                 (None, 128, 768)],                                               \n",
      "                                 'sequence_output':                                               \n",
      "                                 (None, 128, 768),                                                \n",
      "                                 'default': (None,                                                \n",
      "                                768)}                                                             \n",
      "                                                                                                  \n",
      " dropout1 (Dropout)             (None, 128, 768)     0           ['keras_layer_1[0][14]']         \n",
      "                                                                                                  \n",
      " D1 (Dense)                     (None, 128, 128)     98432       ['dropout1[0][0]']               \n",
      "                                                                                                  \n",
      " dropout2 (Dropout)             (None, 128, 128)     0           ['D1[0][0]']                     \n",
      "                                                                                                  \n",
      " D2 (Dense)                     (None, 128, 64)      8256        ['dropout2[0][0]']               \n",
      "                                                                                                  \n",
      " output (Dense)                 (None, 128, 1)       65          ['D2[0][0]']                     \n",
      "                                                                                                  \n",
      "==================================================================================================\n",
      "Total params: 109,588,994\n",
      "Trainable params: 106,753\n",
      "Non-trainable params: 109,482,241\n",
      "__________________________________________________________________________________________________\n"
     ]
    }
   ],
   "source": [
    "model.summary()"
   ]
  },
  {
   "cell_type": "code",
   "execution_count": 42,
   "id": "b58f081c",
   "metadata": {},
   "outputs": [
    {
     "name": "stdout",
     "output_type": "stream",
     "text": [
      "Epoch 1/30\n",
      "241/241 [==============================] - 124s 479ms/step - loss: 0.6359 - accuracy: 0.6446 - val_loss: 0.6180 - val_accuracy: 0.6546\n",
      "Epoch 2/30\n",
      "241/241 [==============================] - 116s 483ms/step - loss: 0.6247 - accuracy: 0.6535 - val_loss: 0.6310 - val_accuracy: 0.6543\n",
      "Epoch 3/30\n",
      "241/241 [==============================] - 115s 476ms/step - loss: 0.6205 - accuracy: 0.6606 - val_loss: 0.6128 - val_accuracy: 0.6760\n",
      "Epoch 4/30\n",
      "241/241 [==============================] - 121s 503ms/step - loss: 0.6142 - accuracy: 0.6633 - val_loss: 0.6046 - val_accuracy: 0.6730\n",
      "Epoch 5/30\n",
      "241/241 [==============================] - 117s 487ms/step - loss: 0.6129 - accuracy: 0.6656 - val_loss: 0.5994 - val_accuracy: 0.6790\n",
      "Epoch 6/30\n",
      "241/241 [==============================] - 118s 488ms/step - loss: 0.6074 - accuracy: 0.6709 - val_loss: 0.6195 - val_accuracy: 0.6574\n",
      "Epoch 7/30\n",
      "241/241 [==============================] - 121s 503ms/step - loss: 0.6095 - accuracy: 0.6691 - val_loss: 0.6059 - val_accuracy: 0.6841\n",
      "Epoch 8/30\n",
      "241/241 [==============================] - 120s 499ms/step - loss: 0.6035 - accuracy: 0.6742 - val_loss: 0.6047 - val_accuracy: 0.6706\n",
      "Epoch 9/30\n",
      "241/241 [==============================] - 118s 491ms/step - loss: 0.6053 - accuracy: 0.6726 - val_loss: 0.5955 - val_accuracy: 0.6862\n",
      "Epoch 10/30\n",
      "241/241 [==============================] - 121s 503ms/step - loss: 0.6010 - accuracy: 0.6781 - val_loss: 0.5950 - val_accuracy: 0.6855\n",
      "Epoch 11/30\n",
      "241/241 [==============================] - 120s 497ms/step - loss: 0.6011 - accuracy: 0.6777 - val_loss: 0.6198 - val_accuracy: 0.6612\n",
      "Epoch 12/30\n",
      "241/241 [==============================] - 116s 483ms/step - loss: 0.6011 - accuracy: 0.6761 - val_loss: 0.5923 - val_accuracy: 0.6875\n",
      "Epoch 13/30\n",
      "241/241 [==============================] - 118s 489ms/step - loss: 0.6007 - accuracy: 0.6772 - val_loss: 0.6280 - val_accuracy: 0.6758\n",
      "Epoch 14/30\n",
      "241/241 [==============================] - 119s 496ms/step - loss: 0.5989 - accuracy: 0.6793 - val_loss: 0.6009 - val_accuracy: 0.6874\n",
      "Epoch 15/30\n",
      "241/241 [==============================] - 117s 485ms/step - loss: 0.5960 - accuracy: 0.6820 - val_loss: 0.5930 - val_accuracy: 0.6887\n",
      "Epoch 16/30\n",
      "241/241 [==============================] - 116s 482ms/step - loss: 0.5952 - accuracy: 0.6826 - val_loss: 0.5928 - val_accuracy: 0.6888\n",
      "Epoch 17/30\n",
      "241/241 [==============================] - 119s 492ms/step - loss: 0.5948 - accuracy: 0.6827 - val_loss: 0.5903 - val_accuracy: 0.6916\n",
      "Epoch 18/30\n",
      "241/241 [==============================] - 120s 496ms/step - loss: 0.5949 - accuracy: 0.6817 - val_loss: 0.5895 - val_accuracy: 0.6903\n",
      "Epoch 19/30\n",
      "241/241 [==============================] - 117s 485ms/step - loss: 0.5952 - accuracy: 0.6827 - val_loss: 0.5947 - val_accuracy: 0.6918\n",
      "Epoch 20/30\n",
      "241/241 [==============================] - 116s 483ms/step - loss: 0.5923 - accuracy: 0.6859 - val_loss: 0.5971 - val_accuracy: 0.6901\n",
      "Epoch 21/30\n",
      "241/241 [==============================] - 116s 481ms/step - loss: 0.5920 - accuracy: 0.6858 - val_loss: 0.5885 - val_accuracy: 0.6931\n",
      "Epoch 22/30\n",
      "241/241 [==============================] - 117s 488ms/step - loss: 0.5919 - accuracy: 0.6864 - val_loss: 0.5938 - val_accuracy: 0.6930\n",
      "Epoch 23/30\n",
      "241/241 [==============================] - 118s 491ms/step - loss: 0.5887 - accuracy: 0.6875 - val_loss: 0.5929 - val_accuracy: 0.6890\n",
      "Epoch 24/30\n",
      "241/241 [==============================] - 118s 488ms/step - loss: 0.5897 - accuracy: 0.6876 - val_loss: 0.5906 - val_accuracy: 0.6919\n",
      "Epoch 25/30\n",
      "241/241 [==============================] - 117s 486ms/step - loss: 0.5884 - accuracy: 0.6894 - val_loss: 0.5914 - val_accuracy: 0.6864\n",
      "Epoch 26/30\n",
      "241/241 [==============================] - 116s 482ms/step - loss: 0.5859 - accuracy: 0.6906 - val_loss: 0.5914 - val_accuracy: 0.6931\n",
      "Epoch 27/30\n",
      "241/241 [==============================] - 117s 487ms/step - loss: 0.5882 - accuracy: 0.6883 - val_loss: 0.5946 - val_accuracy: 0.6895\n",
      "Epoch 28/30\n",
      "241/241 [==============================] - 117s 484ms/step - loss: 0.5861 - accuracy: 0.6899 - val_loss: 0.5873 - val_accuracy: 0.6929\n",
      "Epoch 29/30\n",
      "241/241 [==============================] - 116s 481ms/step - loss: 0.5846 - accuracy: 0.6919 - val_loss: 0.5876 - val_accuracy: 0.6926\n",
      "Epoch 30/30\n",
      "241/241 [==============================] - 116s 483ms/step - loss: 0.5831 - accuracy: 0.6932 - val_loss: 0.5897 - val_accuracy: 0.6945\n"
     ]
    }
   ],
   "source": [
    "model.compile(optimizer='adam',\n",
    "              loss='binary_crossentropy',\n",
    "              metrics=['accuracy'])\n",
    "history= model.fit(X_train, Y_train, validation_data=(X_val, Y_val), epochs=30)"
   ]
  },
  {
   "cell_type": "code",
   "execution_count": 44,
   "id": "a7e1b04a",
   "metadata": {},
   "outputs": [
    {
     "data": {
      "image/png": "[encoded data removed]",
      "text/plain": [
       "<Figure size 432x288 with 1 Axes>"
      ]
     },
     "metadata": {
      "needs_background": "light"
     },
     "output_type": "display_data"
    },
    {
     "data": {
      "image/png": "[encoded data removed]",
      "text/plain": [
       "<Figure size 432x288 with 1 Axes>"
      ]
     },
     "metadata": {
      "needs_background": "light"
     },
     "output_type": "display_data"
    }
   ],
   "source": [
    "acc = history.history['accuracy']\n",
    "val_acc = history.history['val_accuracy']\n",
    "loss = history.history['loss']\n",
    "val_loss = history.history['val_loss']\n",
    "\n",
    "\n",
    "import matplotlib.pyplot as plt\n",
    "\n",
    "epochs = range(1, len(acc) + 1)\n",
    "\n",
    "plt.plot(epochs, acc, label='Training acc')\n",
    "plt.plot(epochs, val_acc, label='Validation acc')\n",
    "plt.title('Training and validation accuracy')\n",
    "plt.legend()\n",
    "\n",
    "plt.figure()\n",
    "\n",
    "plt.plot(epochs, loss, label='Training loss')\n",
    "plt.plot(epochs, val_loss, label='Validation loss')\n",
    "plt.title('Training and validation loss')\n",
    "plt.legend()\n",
    "\n",
    "plt.show()"
   ]
  },
  {
   "cell_type": "code",
   "execution_count": 49,
   "id": "a1dbd155",
   "metadata": {},
   "outputs": [],
   "source": [
    "y_pred = np.around(model.predict(test_data.tweet))"
   ]
  },
  {
   "cell_type": "code",
   "execution_count": 50,
   "id": "2c9be22a",
   "metadata": {},
   "outputs": [
    {
     "name": "stdout",
     "output_type": "stream",
     "text": [
      "[[856   6]\n",
      " [400   3]]\n"
     ]
    }
   ],
   "source": [
    "#Generate the confusion matrix\n",
    "cf_matrix = confusion_matrix(np.array(test_data.OFF), y_pred[:,-1,:].flatten())\n",
    "\n",
    "print(cf_matrix)"
   ]
  },
  {
   "cell_type": "code",
   "execution_count": 53,
   "id": "2545b09b",
   "metadata": {},
   "outputs": [
    {
     "data": {
      "text/plain": [
       "<AxesSubplot:>"
      ]
     },
     "execution_count": 53,
     "metadata": {},
     "output_type": "execute_result"
    },
    {
     "data": {
      "image/png": "[encoded data removed]",
      "text/plain": [
       "<Figure size 720x504 with 2 Axes>"
      ]
     },
     "metadata": {
      "needs_background": "light"
     },
     "output_type": "display_data"
    }
   ],
   "source": [
    "plt.figure(figsize = (10,7))\n",
    "sn.heatmap(cf_matrix, annot=True,cmap='Blues', fmt='g')"
   ]
  },
  {
   "cell_type": "code",
   "execution_count": 51,
   "id": "bbb3344a",
   "metadata": {},
   "outputs": [
    {
     "name": "stdout",
     "output_type": "stream",
     "text": [
      "              precision    recall  f1-score   support\n",
      "\n",
      "         off       0.68      0.99      0.81       862\n",
      "         not       0.33      0.01      0.01       403\n",
      "\n",
      "    accuracy                           0.68      1265\n",
      "   macro avg       0.51      0.50      0.41      1265\n",
      "weighted avg       0.57      0.68      0.56      1265\n",
      "\n"
     ]
    }
   ],
   "source": [
    "target_names = ['off', 'not']\n",
    "print(classification_report(np.array(test_data.OFF),  y_pred[:,-1,:].flatten(),target_names=target_names))"
   ]
  },
  {
   "cell_type": "markdown",
   "id": "d6ac55dd",
   "metadata": {},
   "source": [
    "## try on balanced(undersampled) data"
   ]
  },
  {
   "cell_type": "code",
   "execution_count": 5,
   "id": "860dadd9",
   "metadata": {},
   "outputs": [
    {
     "data": {
      "text/html": [
       "<div>\n",
       "<style scoped>\n",
       "    .dataframe tbody tr th:only-of-type {\n",
       "        vertical-align: middle;\n",
       "    }\n",
       "\n",
       "    .dataframe tbody tr th {\n",
       "        vertical-align: top;\n",
       "    }\n",
       "\n",
       "    .dataframe thead th {\n",
       "        text-align: right;\n",
       "    }\n",
       "</style>\n",
       "<table border=\"1\" class=\"dataframe\">\n",
       "  <thead>\n",
       "    <tr style=\"text-align: right;\">\n",
       "      <th></th>\n",
       "      <th>tweet</th>\n",
       "      <th>OFF</th>\n",
       "    </tr>\n",
       "  </thead>\n",
       "  <tbody>\n",
       "    <tr>\n",
       "      <th>0</th>\n",
       "      <td>درس الفيزياء وحشني جدااا وجه بدموع الفرح وجه ب...</td>\n",
       "      <td>0</td>\n",
       "    </tr>\n",
       "    <tr>\n",
       "      <th>1</th>\n",
       "      <td>مستخدم صافيه صافيه ههههههههههههه وجه بدموع ال...</td>\n",
       "      <td>0</td>\n",
       "    </tr>\n",
       "    <tr>\n",
       "      <th>2</th>\n",
       "      <td>اذا مابيسوي حادث يبغا يتضارب الخلق مع هالصبح ل...</td>\n",
       "      <td>1</td>\n",
       "    </tr>\n",
       "    <tr>\n",
       "      <th>3</th>\n",
       "      <td>مستخدم هووه انتم ملعب مو مستنقع وجه بدموع الف...</td>\n",
       "      <td>1</td>\n",
       "    </tr>\n",
       "    <tr>\n",
       "      <th>4</th>\n",
       "      <td>أجمل عبارات تحفيزية للأردنيين تم إيداع الراتب ...</td>\n",
       "      <td>0</td>\n",
       "    </tr>\n",
       "  </tbody>\n",
       "</table>\n",
       "</div>"
      ],
      "text/plain": [
       "                                               tweet  OFF\n",
       "0  درس الفيزياء وحشني جدااا وجه بدموع الفرح وجه ب...    0\n",
       "1   مستخدم صافيه صافيه ههههههههههههه وجه بدموع ال...    0\n",
       "2  اذا مابيسوي حادث يبغا يتضارب الخلق مع هالصبح ل...    1\n",
       "3   مستخدم هووه انتم ملعب مو مستنقع وجه بدموع الف...    1\n",
       "4  أجمل عبارات تحفيزية للأردنيين تم إيداع الراتب ...    0"
      ]
     },
     "execution_count": 5,
     "metadata": {},
     "output_type": "execute_result"
    }
   ],
   "source": [
    "data=pd.read_csv('undersampled_off_data_HT8.csv')\n",
    "data.head()"
   ]
  },
  {
   "cell_type": "code",
   "execution_count": 38,
   "id": "7727066c",
   "metadata": {},
   "outputs": [
    {
     "data": {
      "text/plain": [
       "((5515,), (613,))"
      ]
     },
     "execution_count": 38,
     "metadata": {},
     "output_type": "execute_result"
    }
   ],
   "source": [
    "X_train, X_test, Y_train, Y_test = train_test_split(data['tweet'],data['OFF'], test_size=0.1)\n",
    "X_train.shape, X_test.shape "
   ]
  },
  {
   "cell_type": "code",
   "execution_count": 7,
   "id": "60da6063",
   "metadata": {},
   "outputs": [],
   "source": [
    "bert_preprocess = hub.KerasLayer(\"https://tfhub.dev/tensorflow/bert_en_uncased_preprocess/3\")\n",
    "bert_encoder = hub.KerasLayer(\"https://tfhub.dev/tensorflow/bert_en_uncased_L-12_H-768_A-12/4\")"
   ]
  },
  {
   "cell_type": "code",
   "execution_count": 18,
   "id": "c15ffe5b",
   "metadata": {},
   "outputs": [
    {
     "name": "stderr",
     "output_type": "stream",
     "text": [
      "WARNING:absl:Found untraced functions such as keras_layer_layer_call_fn, keras_layer_layer_call_and_return_conditional_losses while saving (showing 2 of 2). These functions will not be directly callable after loading.\n"
     ]
    },
    {
     "name": "stdout",
     "output_type": "stream",
     "text": [
      "INFO:tensorflow:Assets written to: D:/projects data/NLP/bert/bert_preprocess\\assets\n"
     ]
    },
    {
     "name": "stderr",
     "output_type": "stream",
     "text": [
      "INFO:tensorflow:Assets written to: D:/projects data/NLP/bert/bert_preprocess\\assets\n",
      "WARNING:absl:Found untraced functions such as keras_layer_1_layer_call_fn, keras_layer_1_layer_call_and_return_conditional_losses, restored_function_body, restored_function_body, restored_function_body while saving (showing 5 of 368). These functions will not be directly callable after loading.\n"
     ]
    },
    {
     "name": "stdout",
     "output_type": "stream",
     "text": [
      "INFO:tensorflow:Assets written to: D:/projects data/NLP/bert/bert_encoder\\assets\n"
     ]
    },
    {
     "name": "stderr",
     "output_type": "stream",
     "text": [
      "INFO:tensorflow:Assets written to: D:/projects data/NLP/bert/bert_encoder\\assets\n"
     ]
    }
   ],
   "source": [
    "tf.saved_model.save(bert_preprocess, 'D:/projects data/NLP/bert/bert_preprocess')\n",
    "tf.saved_model.save(bert_encoder, 'D:/projects data/NLP/bert/bert_encoder')\n"
   ]
  },
  {
   "cell_type": "code",
   "execution_count": 33,
   "id": "b4f4b1ec",
   "metadata": {},
   "outputs": [],
   "source": [
    "text_input = tf.keras.layers.Input(shape=(), dtype=tf.string, name='text')\n",
    "preprocessed_text = bert_preprocess(text_input)\n",
    "outputs = bert_encoder(preprocessed_text)\n",
    "\n",
    "l = tf.keras.layers.Dropout(0.1, name=\"dropout1\")(outputs['sequence_output'])\n",
    "l = tf.keras.layers.Dense(128, activation='relu', name=\"D1\")(l)\n",
    "\n",
    "l = tf.keras.layers.Dropout(0.1, name=\"dropout2\")(l)\n",
    "l = tf.keras.layers.Dense(64, activation='relu', name=\"D2\")(l)\n",
    "\n",
    "l = tf.keras.layers.Dense(1, activation='sigmoid', name=\"output\")(l)\n",
    "\n",
    "model = tf.keras.Model(inputs=[text_input], outputs = [l])"
   ]
  },
  {
   "cell_type": "code",
   "execution_count": 34,
   "id": "26288670",
   "metadata": {},
   "outputs": [
    {
     "name": "stdout",
     "output_type": "stream",
     "text": [
      "Model: \"model_5\"\n",
      "__________________________________________________________________________________________________\n",
      " Layer (type)                   Output Shape         Param #     Connected to                     \n",
      "==================================================================================================\n",
      " text (InputLayer)              [(None,)]            0           []                               \n",
      "                                                                                                  \n",
      " keras_layer (KerasLayer)       {'input_word_ids':   0           ['text[0][0]']                   \n",
      "                                (None, 128),                                                      \n",
      "                                 'input_type_ids':                                                \n",
      "                                (None, 128),                                                      \n",
      "                                 'input_mask': (Non                                               \n",
      "                                e, 128)}                                                          \n",
      "                                                                                                  \n",
      " keras_layer_1 (KerasLayer)     {'sequence_output':  109482241   ['keras_layer[5][0]',            \n",
      "                                 (None, 128, 768),                'keras_layer[5][1]',            \n",
      "                                 'pooled_output': (               'keras_layer[5][2]']            \n",
      "                                None, 768),                                                       \n",
      "                                 'default': (None,                                                \n",
      "                                768),                                                             \n",
      "                                 'encoder_outputs':                                               \n",
      "                                 [(None, 128, 768),                                               \n",
      "                                 (None, 128, 768),                                                \n",
      "                                 (None, 128, 768),                                                \n",
      "                                 (None, 128, 768),                                                \n",
      "                                 (None, 128, 768),                                                \n",
      "                                 (None, 128, 768),                                                \n",
      "                                 (None, 128, 768),                                                \n",
      "                                 (None, 128, 768),                                                \n",
      "                                 (None, 128, 768),                                                \n",
      "                                 (None, 128, 768),                                                \n",
      "                                 (None, 128, 768),                                                \n",
      "                                 (None, 128, 768)]}                                               \n",
      "                                                                                                  \n",
      " dropout1 (Dropout)             (None, 128, 768)     0           ['keras_layer_1[5][14]']         \n",
      "                                                                                                  \n",
      " D1 (Dense)                     (None, 128, 128)     98432       ['dropout1[0][0]']               \n",
      "                                                                                                  \n",
      " dropout2 (Dropout)             (None, 128, 128)     0           ['D1[0][0]']                     \n",
      "                                                                                                  \n",
      " D2 (Dense)                     (None, 128, 64)      8256        ['dropout2[0][0]']               \n",
      "                                                                                                  \n",
      " output (Dense)                 (None, 128, 1)       65          ['D2[0][0]']                     \n",
      "                                                                                                  \n",
      "==================================================================================================\n",
      "Total params: 109,588,994\n",
      "Trainable params: 106,753\n",
      "Non-trainable params: 109,482,241\n",
      "__________________________________________________________________________________________________\n"
     ]
    }
   ],
   "source": [
    "model.summary()"
   ]
  },
  {
   "cell_type": "code",
   "execution_count": 35,
   "id": "86f50586",
   "metadata": {},
   "outputs": [
    {
     "data": {
      "text/plain": [
       "5515"
      ]
     },
     "execution_count": 35,
     "metadata": {},
     "output_type": "execute_result"
    }
   ],
   "source": [
    "X_train.shape,y"
   ]
  },
  {
   "cell_type": "code",
   "execution_count": 39,
   "id": "dcb67c99",
   "metadata": {},
   "outputs": [],
   "source": [
    "x_train, x_val, y_train, y_val = train_test_split(X_train, Y_train, test_size=0.1, shuffle=True)"
   ]
  },
  {
   "cell_type": "code",
   "execution_count": 40,
   "id": "882f67b4",
   "metadata": {},
   "outputs": [
    {
     "name": "stdout",
     "output_type": "stream",
     "text": [
      "Epoch 1/30\n",
      "156/156 [==============================] - 68s 420ms/step - loss: 0.6700 - accuracy: 0.5889 - val_loss: 0.6608 - val_accuracy: 0.6055\n",
      "Epoch 2/30\n",
      "156/156 [==============================] - 65s 419ms/step - loss: 0.6563 - accuracy: 0.6127 - val_loss: 0.6471 - val_accuracy: 0.6246\n",
      "Epoch 3/30\n",
      "156/156 [==============================] - 65s 416ms/step - loss: 0.6520 - accuracy: 0.6178 - val_loss: 0.6579 - val_accuracy: 0.6078\n",
      "Epoch 4/30\n",
      "156/156 [==============================] - 65s 417ms/step - loss: 0.6505 - accuracy: 0.6202 - val_loss: 0.6437 - val_accuracy: 0.6354\n",
      "Epoch 5/30\n",
      "156/156 [==============================] - 65s 420ms/step - loss: 0.6497 - accuracy: 0.6211 - val_loss: 0.6437 - val_accuracy: 0.6353\n",
      "Epoch 6/30\n",
      "156/156 [==============================] - 66s 423ms/step - loss: 0.6449 - accuracy: 0.6281 - val_loss: 0.6387 - val_accuracy: 0.6364\n",
      "Epoch 7/30\n",
      "156/156 [==============================] - 66s 426ms/step - loss: 0.6465 - accuracy: 0.6271 - val_loss: 0.6375 - val_accuracy: 0.6385\n",
      "Epoch 8/30\n",
      "156/156 [==============================] - 66s 426ms/step - loss: 0.6402 - accuracy: 0.6343 - val_loss: 0.6559 - val_accuracy: 0.6015\n",
      "Epoch 9/30\n",
      "156/156 [==============================] - 66s 426ms/step - loss: 0.6425 - accuracy: 0.6306 - val_loss: 0.6434 - val_accuracy: 0.6225\n",
      "Epoch 10/30\n",
      "156/156 [==============================] - 67s 428ms/step - loss: 0.6347 - accuracy: 0.6409 - val_loss: 0.6387 - val_accuracy: 0.6319\n",
      "Epoch 11/30\n",
      "156/156 [==============================] - 67s 427ms/step - loss: 0.6354 - accuracy: 0.6404 - val_loss: 0.6450 - val_accuracy: 0.6340\n",
      "Epoch 12/30\n",
      "156/156 [==============================] - 67s 428ms/step - loss: 0.6370 - accuracy: 0.6373 - val_loss: 0.6394 - val_accuracy: 0.6341\n",
      "Epoch 13/30\n",
      "156/156 [==============================] - 67s 427ms/step - loss: 0.6325 - accuracy: 0.6420 - val_loss: 0.6327 - val_accuracy: 0.6441\n",
      "Epoch 14/30\n",
      "156/156 [==============================] - 67s 428ms/step - loss: 0.6344 - accuracy: 0.6410 - val_loss: 0.6335 - val_accuracy: 0.6410\n",
      "Epoch 15/30\n",
      "156/156 [==============================] - 66s 425ms/step - loss: 0.6318 - accuracy: 0.6445 - val_loss: 0.6391 - val_accuracy: 0.6451\n",
      "Epoch 16/30\n",
      "156/156 [==============================] - 66s 424ms/step - loss: 0.6303 - accuracy: 0.6461 - val_loss: 0.6325 - val_accuracy: 0.6479\n",
      "Epoch 17/30\n",
      "156/156 [==============================] - 66s 424ms/step - loss: 0.6322 - accuracy: 0.6436 - val_loss: 0.6381 - val_accuracy: 0.6276\n",
      "Epoch 18/30\n",
      "156/156 [==============================] - 66s 424ms/step - loss: 0.6281 - accuracy: 0.6481 - val_loss: 0.6336 - val_accuracy: 0.6473\n",
      "Epoch 19/30\n",
      "156/156 [==============================] - 67s 431ms/step - loss: 0.6283 - accuracy: 0.6464 - val_loss: 0.6382 - val_accuracy: 0.6417\n",
      "Epoch 20/30\n",
      "156/156 [==============================] - 67s 429ms/step - loss: 0.6273 - accuracy: 0.6489 - val_loss: 0.6387 - val_accuracy: 0.6396\n",
      "Epoch 21/30\n",
      "156/156 [==============================] - 67s 430ms/step - loss: 0.6256 - accuracy: 0.6487 - val_loss: 0.6388 - val_accuracy: 0.6416\n",
      "Epoch 22/30\n",
      "156/156 [==============================] - 67s 430ms/step - loss: 0.6273 - accuracy: 0.6478 - val_loss: 0.6506 - val_accuracy: 0.6257\n",
      "Epoch 23/30\n",
      "156/156 [==============================] - 67s 430ms/step - loss: 0.6232 - accuracy: 0.6517 - val_loss: 0.6314 - val_accuracy: 0.6454\n",
      "Epoch 24/30\n",
      "156/156 [==============================] - 67s 432ms/step - loss: 0.6235 - accuracy: 0.6524 - val_loss: 0.6389 - val_accuracy: 0.6371\n",
      "Epoch 25/30\n",
      "156/156 [==============================] - 67s 430ms/step - loss: 0.6231 - accuracy: 0.6517 - val_loss: 0.6377 - val_accuracy: 0.6294\n",
      "Epoch 26/30\n",
      "156/156 [==============================] - 67s 431ms/step - loss: 0.6244 - accuracy: 0.6496 - val_loss: 0.6386 - val_accuracy: 0.6286\n",
      "Epoch 27/30\n",
      "156/156 [==============================] - 67s 431ms/step - loss: 0.6197 - accuracy: 0.6556 - val_loss: 0.6564 - val_accuracy: 0.6268\n",
      "Epoch 28/30\n",
      "156/156 [==============================] - 67s 433ms/step - loss: 0.6240 - accuracy: 0.6521 - val_loss: 0.6296 - val_accuracy: 0.6400\n",
      "Epoch 29/30\n",
      "156/156 [==============================] - 67s 431ms/step - loss: 0.6182 - accuracy: 0.6563 - val_loss: 0.6282 - val_accuracy: 0.6486\n",
      "Epoch 30/30\n",
      "156/156 [==============================] - 67s 430ms/step - loss: 0.6178 - accuracy: 0.6576 - val_loss: 0.6290 - val_accuracy: 0.6509\n"
     ]
    }
   ],
   "source": [
    "model.compile(optimizer='adam',\n",
    "              loss='binary_crossentropy',\n",
    "              metrics=['accuracy'])\n",
    "history= model.fit(x_train, y_train, validation_data=(x_val, y_val), epochs=30)"
   ]
  },
  {
   "cell_type": "code",
   "execution_count": 48,
   "id": "9cfc1e12",
   "metadata": {},
   "outputs": [
    {
     "data": {
      "image/png": "[encoded data removed]",
      "text/plain": [
       "<Figure size 432x288 with 1 Axes>"
      ]
     },
     "metadata": {
      "needs_background": "light"
     },
     "output_type": "display_data"
    },
    {
     "data": {
      "image/png": "[encoded data removed]",
      "text/plain": [
       "<Figure size 432x288 with 1 Axes>"
      ]
     },
     "metadata": {
      "needs_background": "light"
     },
     "output_type": "display_data"
    }
   ],
   "source": [
    "import matplotlib.pyplot as plt\n",
    "\n",
    "acc = history.history['accuracy']\n",
    "val_acc = history.history['val_accuracy']\n",
    "loss = history.history['loss']\n",
    "val_loss = history.history['val_loss']\n",
    "\n",
    "\n",
    "import matplotlib.pyplot as plt\n",
    "\n",
    "epochs = range(1, len(acc) + 1)\n",
    "\n",
    "plt.plot(epochs, acc, label='Training acc')\n",
    "plt.plot(epochs, val_acc, label='Validation acc')\n",
    "plt.title('Training and validation accuracy')\n",
    "plt.legend()\n",
    "\n",
    "plt.figure()\n",
    "\n",
    "plt.plot(epochs, loss, label='Training loss')\n",
    "plt.plot(epochs, val_loss, label='Validation loss')\n",
    "plt.title('Training and validation loss')\n",
    "plt.legend()\n",
    "\n",
    "plt.show()\n"
   ]
  },
  {
   "cell_type": "code",
   "execution_count": 50,
   "id": "22fe5952",
   "metadata": {},
   "outputs": [
    {
     "name": "stdout",
     "output_type": "stream",
     "text": [
      "20/20 [==============================] - 7s 343ms/step - loss: 0.6487 - accuracy: 0.6353\n"
     ]
    },
    {
     "data": {
      "text/plain": [
       "[0.6486954092979431, 0.6352977156639099]"
      ]
     },
     "execution_count": 50,
     "metadata": {},
     "output_type": "execute_result"
    }
   ],
   "source": [
    "model.evaluate(X_test, Y_test)"
   ]
  },
  {
   "cell_type": "code",
   "execution_count": 74,
   "id": "4203fa30",
   "metadata": {},
   "outputs": [],
   "source": [
    "y_pred= model.predict(X_test)\n",
    "y_pred=np.around(y_pred)"
   ]
  },
  {
   "cell_type": "code",
   "execution_count": 12,
   "id": "8590e683",
   "metadata": {},
   "outputs": [
    {
     "data": {
      "text/plain": [
       "((613, 128, 1), (613,))"
      ]
     },
     "execution_count": 12,
     "metadata": {},
     "output_type": "execute_result"
    }
   ],
   "source": [
    "y_pred.shape,Y_test.shape"
   ]
  },
  {
   "cell_type": "code",
   "execution_count": 20,
   "id": "ecad2fc5",
   "metadata": {},
   "outputs": [
    {
     "data": {
      "text/plain": [
       "(613, 1)"
      ]
     },
     "execution_count": 20,
     "metadata": {},
     "output_type": "execute_result"
    }
   ],
   "source": [
    "y_pred[:,-1,:].shape"
   ]
  },
  {
   "cell_type": "code",
   "execution_count": 61,
   "id": "af9452eb",
   "metadata": {},
   "outputs": [],
   "source": [
    "\n",
    "y_pred2 = pickle.load(open(\"y_pred.pkl\", 'rb'))\n",
    "Y_test2 = pickle.load(open(\"Y_test.pkl\", 'rb'))"
   ]
  },
  {
   "cell_type": "code",
   "execution_count": 62,
   "id": "82d7763b",
   "metadata": {},
   "outputs": [
    {
     "name": "stdout",
     "output_type": "stream",
     "text": [
      "[[223  78]\n",
      " [142 170]]\n"
     ]
    }
   ],
   "source": [
    "from sklearn.metrics import confusion_matrix\n",
    "\n",
    "#Generate the confusion matrix\n",
    "cf_matrix = confusion_matrix(Y_test2, y_pred2[:,-1,:].flatten())\n",
    "\n",
    "print(cf_matrix)"
   ]
  },
  {
   "cell_type": "code",
   "execution_count": 63,
   "id": "d57acde2",
   "metadata": {},
   "outputs": [
    {
     "data": {
      "text/plain": [
       "<AxesSubplot:>"
      ]
     },
     "execution_count": 63,
     "metadata": {},
     "output_type": "execute_result"
    },
    {
     "data": {
      "image/png": "[encoded data removed]",
      "text/plain": [
       "<Figure size 720x504 with 2 Axes>"
      ]
     },
     "metadata": {
      "needs_background": "light"
     },
     "output_type": "display_data"
    }
   ],
   "source": [
    "plt.figure(figsize = (10,7))\n",
    "sn.heatmap(cf_matrix, annot=True,cmap='Blues', fmt='g')"
   ]
  },
  {
   "cell_type": "code",
   "execution_count": 23,
   "id": "29deae1b",
   "metadata": {},
   "outputs": [
    {
     "name": "stdout",
     "output_type": "stream",
     "text": [
      "              precision    recall  f1-score   support\n",
      "\n",
      "         off       0.61      0.74      0.67       301\n",
      "         not       0.69      0.54      0.61       312\n",
      "\n",
      "    accuracy                           0.64       613\n",
      "   macro avg       0.65      0.64      0.64       613\n",
      "weighted avg       0.65      0.64      0.64       613\n",
      "\n"
     ]
    }
   ],
   "source": [
    "from sklearn.metrics import classification_report\n",
    "target_names = ['off', 'not']\n",
    "print(classification_report(Y_test,  y_pred[:,-1,:].flatten(),target_names=target_names))"
   ]
  },
  {
   "cell_type": "markdown",
   "id": "a491554c",
   "metadata": {},
   "source": [
    "## try on balanced(oversampled) data"
   ]
  },
  {
   "cell_type": "code",
   "execution_count": 65,
   "id": "e0f416f8",
   "metadata": {},
   "outputs": [
    {
     "data": {
      "text/html": [
       "<div>\n",
       "<style scoped>\n",
       "    .dataframe tbody tr th:only-of-type {\n",
       "        vertical-align: middle;\n",
       "    }\n",
       "\n",
       "    .dataframe tbody tr th {\n",
       "        vertical-align: top;\n",
       "    }\n",
       "\n",
       "    .dataframe thead th {\n",
       "        text-align: right;\n",
       "    }\n",
       "</style>\n",
       "<table border=\"1\" class=\"dataframe\">\n",
       "  <thead>\n",
       "    <tr style=\"text-align: right;\">\n",
       "      <th></th>\n",
       "      <th>tweet</th>\n",
       "      <th>OFF</th>\n",
       "    </tr>\n",
       "  </thead>\n",
       "  <tbody>\n",
       "    <tr>\n",
       "      <th>0</th>\n",
       "      <td>وصارت فطاير البقالات غذاء صحي ابهام متجه لاسفل 🏻</td>\n",
       "      <td>0</td>\n",
       "    </tr>\n",
       "    <tr>\n",
       "      <th>1</th>\n",
       "      <td>مستخدم روحي لبريده تلقين اشباه كثير ماحد زيكم...</td>\n",
       "      <td>1</td>\n",
       "    </tr>\n",
       "    <tr>\n",
       "      <th>2</th>\n",
       "      <td>مستخدم مش باين حاجه خالص وجه منصدم مش عارف بق...</td>\n",
       "      <td>0</td>\n",
       "    </tr>\n",
       "    <tr>\n",
       "      <th>3</th>\n",
       "      <td>اليوم الاثنين تصفيق يقولك المسلمين عندهم خاله...</td>\n",
       "      <td>0</td>\n",
       "    </tr>\n",
       "    <tr>\n",
       "      <th>4</th>\n",
       "      <td>حمدلله ماحطها فمي اساسا وجه بقناع طبي وجه مشمئز</td>\n",
       "      <td>0</td>\n",
       "    </tr>\n",
       "  </tbody>\n",
       "</table>\n",
       "</div>"
      ],
      "text/plain": [
       "                                               tweet  OFF\n",
       "0  وصارت فطاير البقالات غذاء صحي ابهام متجه لاسفل 🏻     0\n",
       "1   مستخدم روحي لبريده تلقين اشباه كثير ماحد زيكم...    1\n",
       "2   مستخدم مش باين حاجه خالص وجه منصدم مش عارف بق...    0\n",
       "3   اليوم الاثنين تصفيق يقولك المسلمين عندهم خاله...    0\n",
       "4   حمدلله ماحطها فمي اساسا وجه بقناع طبي وجه مشمئز     0"
      ]
     },
     "execution_count": 65,
     "metadata": {},
     "output_type": "execute_result"
    }
   ],
   "source": [
    "train_data_over=pd.read_csv('oversampled_off_data_HT8.csv')\n",
    "train_data_over.head()"
   ]
  },
  {
   "cell_type": "code",
   "execution_count": 66,
   "id": "c2d5ae1f",
   "metadata": {},
   "outputs": [
    {
     "data": {
      "text/html": [
       "<div>\n",
       "<style scoped>\n",
       "    .dataframe tbody tr th:only-of-type {\n",
       "        vertical-align: middle;\n",
       "    }\n",
       "\n",
       "    .dataframe tbody tr th {\n",
       "        vertical-align: top;\n",
       "    }\n",
       "\n",
       "    .dataframe thead th {\n",
       "        text-align: right;\n",
       "    }\n",
       "</style>\n",
       "<table border=\"1\" class=\"dataframe\">\n",
       "  <thead>\n",
       "    <tr style=\"text-align: right;\">\n",
       "      <th></th>\n",
       "      <th>tweet</th>\n",
       "      <th>OFF</th>\n",
       "      <th>HS</th>\n",
       "      <th>VLG</th>\n",
       "      <th>VIO</th>\n",
       "    </tr>\n",
       "  </thead>\n",
       "  <tbody>\n",
       "    <tr>\n",
       "      <th>0</th>\n",
       "      <td>Ø¯Ø§Ù„ÙŠØ§ Ù…Ø¨Ø§Ø±Ùƒ Ù…Ø§Ø¯Ø±ÙŠ Ù„ÙŠØ´ ØªÙ‚Ø...</td>\n",
       "      <td>0</td>\n",
       "      <td>NOT_HS</td>\n",
       "      <td>0</td>\n",
       "      <td>0</td>\n",
       "    </tr>\n",
       "    <tr>\n",
       "      <th>1</th>\n",
       "      <td>مستخدم Ø§Ø¨Ø¯ÙŠØª Ø§Ù„Ø³Ù†Ø§Ø¨ Ø§Ù„Ø¬Ø¯ÙŠØ¯ â...</td>\n",
       "      <td>0</td>\n",
       "      <td>NOT_HS</td>\n",
       "      <td>0</td>\n",
       "      <td>0</td>\n",
       "    </tr>\n",
       "    <tr>\n",
       "      <th>2</th>\n",
       "      <td>مستخدم Ù‡ÙŠÙŠÙ‡ ÙˆØ§Ù„Ù„Ù‡ ÙˆØ§Ø§Ø§ÙŠØ¯Ø¯ ðŸ”...</td>\n",
       "      <td>0</td>\n",
       "      <td>NOT_HS</td>\n",
       "      <td>0</td>\n",
       "      <td>0</td>\n",
       "    </tr>\n",
       "    <tr>\n",
       "      <th>3</th>\n",
       "      <td>Ø§ÙƒÙŠØ¯ Ø§Ø مسجل Ø³ Ø´ÙŠ ðŸ˜¤</td>\n",
       "      <td>0</td>\n",
       "      <td>NOT_HS</td>\n",
       "      <td>0</td>\n",
       "      <td>0</td>\n",
       "    </tr>\n",
       "    <tr>\n",
       "      <th>4</th>\n",
       "      <td>Ù…Ø§Ø¨ÙŠ Ø´ÙŠ Ø§Ù„Ø­ÙŠÙ† ØºÙŠØ± ÙØ±Ø§Ø´ÙŠðŸ˜£</td>\n",
       "      <td>0</td>\n",
       "      <td>NOT_HS</td>\n",
       "      <td>0</td>\n",
       "      <td>0</td>\n",
       "    </tr>\n",
       "  </tbody>\n",
       "</table>\n",
       "</div>"
      ],
      "text/plain": [
       "                                               tweet  OFF      HS  VLG  VIO\n",
       "0   Ø¯Ø§Ù„ÙŠØ§ Ù…Ø¨Ø§Ø±Ùƒ Ù…Ø§Ø¯Ø±ÙŠ Ù„ÙŠØ´ ØªÙ‚Ø...    0  NOT_HS    0    0\n",
       "1   مستخدم Ø§Ø¨Ø¯ÙŠØª Ø§Ù„Ø³Ù†Ø§Ø¨ Ø§Ù„Ø¬Ø¯ÙŠØ¯ â...    0  NOT_HS    0    0\n",
       "2   مستخدم Ù‡ÙŠÙŠÙ‡ ÙˆØ§Ù„Ù„Ù‡ ÙˆØ§Ø§Ø§ÙŠØ¯Ø¯ ðŸ”...    0  NOT_HS    0    0\n",
       "3                    Ø§ÙƒÙŠØ¯ Ø§Ø مسجل Ø³ Ø´ÙŠ ðŸ˜¤     0  NOT_HS    0    0\n",
       "4     Ù…Ø§Ø¨ÙŠ Ø´ÙŠ Ø§Ù„Ø­ÙŠÙ† ØºÙŠØ± ÙØ±Ø§Ø´ÙŠðŸ˜£    0  NOT_HS    0    0"
      ]
     },
     "execution_count": 66,
     "metadata": {},
     "output_type": "execute_result"
    }
   ],
   "source": [
    "test_data=pd.read_csv('off_comp_test.csv')\n",
    "test_data.head()"
   ]
  },
  {
   "cell_type": "code",
   "execution_count": 67,
   "id": "1f02452c",
   "metadata": {},
   "outputs": [
    {
     "data": {
      "text/plain": [
       "((9883,), (1099,))"
      ]
     },
     "execution_count": 67,
     "metadata": {},
     "output_type": "execute_result"
    }
   ],
   "source": [
    "X_train, X_val, Y_train, Y_val = train_test_split(train_data_over['tweet'],train_data_over['OFF'], test_size=0.1)\n",
    "X_train.shape, X_val.shape "
   ]
  },
  {
   "cell_type": "code",
   "execution_count": 68,
   "id": "00768b95",
   "metadata": {},
   "outputs": [],
   "source": [
    "bert_preprocess = hub.KerasLayer(\"https://tfhub.dev/tensorflow/bert_en_uncased_preprocess/3\")\n",
    "bert_encoder = hub.KerasLayer(\"https://tfhub.dev/tensorflow/bert_en_uncased_L-12_H-768_A-12/4\")"
   ]
  },
  {
   "cell_type": "code",
   "execution_count": 69,
   "id": "9cac808d",
   "metadata": {},
   "outputs": [],
   "source": [
    "text_input = tf.keras.layers.Input(shape=(), dtype=tf.string, name='text')\n",
    "preprocessed_text = bert_preprocess(text_input)\n",
    "outputs = bert_encoder(preprocessed_text)\n",
    "\n",
    "l = tf.keras.layers.Dropout(0.1, name=\"dropout1\")(outputs['sequence_output'])\n",
    "l = tf.keras.layers.Dense(128, activation='relu', name=\"D1\")(l)\n",
    "\n",
    "l = tf.keras.layers.Dropout(0.1, name=\"dropout2\")(l)\n",
    "l = tf.keras.layers.Dense(64, activation='relu', name=\"D2\")(l)\n",
    "\n",
    "l = tf.keras.layers.Dense(1, activation='sigmoid', name=\"output\")(l)\n",
    "\n",
    "model = tf.keras.Model(inputs=[text_input], outputs = [l])"
   ]
  },
  {
   "cell_type": "code",
   "execution_count": 70,
   "id": "287b9dfd",
   "metadata": {},
   "outputs": [
    {
     "name": "stdout",
     "output_type": "stream",
     "text": [
      "Model: \"model_1\"\n",
      "__________________________________________________________________________________________________\n",
      " Layer (type)                   Output Shape         Param #     Connected to                     \n",
      "==================================================================================================\n",
      " text (InputLayer)              [(None,)]            0           []                               \n",
      "                                                                                                  \n",
      " keras_layer_2 (KerasLayer)     {'input_word_ids':   0           ['text[0][0]']                   \n",
      "                                (None, 128),                                                      \n",
      "                                 'input_mask': (Non                                               \n",
      "                                e, 128),                                                          \n",
      "                                 'input_type_ids':                                                \n",
      "                                (None, 128)}                                                      \n",
      "                                                                                                  \n",
      " keras_layer_3 (KerasLayer)     {'sequence_output':  109482241   ['keras_layer_2[0][0]',          \n",
      "                                 (None, 128, 768),                'keras_layer_2[0][1]',          \n",
      "                                 'pooled_output': (               'keras_layer_2[0][2]']          \n",
      "                                None, 768),                                                       \n",
      "                                 'encoder_outputs':                                               \n",
      "                                 [(None, 128, 768),                                               \n",
      "                                 (None, 128, 768),                                                \n",
      "                                 (None, 128, 768),                                                \n",
      "                                 (None, 128, 768),                                                \n",
      "                                 (None, 128, 768),                                                \n",
      "                                 (None, 128, 768),                                                \n",
      "                                 (None, 128, 768),                                                \n",
      "                                 (None, 128, 768),                                                \n",
      "                                 (None, 128, 768),                                                \n",
      "                                 (None, 128, 768),                                                \n",
      "                                 (None, 128, 768),                                                \n",
      "                                 (None, 128, 768)],                                               \n",
      "                                 'default': (None,                                                \n",
      "                                768)}                                                             \n",
      "                                                                                                  \n",
      " dropout1 (Dropout)             (None, 128, 768)     0           ['keras_layer_3[0][14]']         \n",
      "                                                                                                  \n",
      " D1 (Dense)                     (None, 128, 128)     98432       ['dropout1[0][0]']               \n",
      "                                                                                                  \n",
      " dropout2 (Dropout)             (None, 128, 128)     0           ['D1[0][0]']                     \n",
      "                                                                                                  \n",
      " D2 (Dense)                     (None, 128, 64)      8256        ['dropout2[0][0]']               \n",
      "                                                                                                  \n",
      " output (Dense)                 (None, 128, 1)       65          ['D2[0][0]']                     \n",
      "                                                                                                  \n",
      "==================================================================================================\n",
      "Total params: 109,588,994\n",
      "Trainable params: 106,753\n",
      "Non-trainable params: 109,482,241\n",
      "__________________________________________________________________________________________________\n"
     ]
    }
   ],
   "source": [
    "model.summary()"
   ]
  },
  {
   "cell_type": "code",
   "execution_count": 71,
   "id": "5de275d9",
   "metadata": {},
   "outputs": [
    {
     "name": "stdout",
     "output_type": "stream",
     "text": [
      "Epoch 1/30\n",
      "309/309 [==============================] - 155s 475ms/step - loss: 0.6719 - accuracy: 0.5857 - val_loss: 0.6482 - val_accuracy: 0.6220\n",
      "Epoch 2/30\n",
      "309/309 [==============================] - 146s 474ms/step - loss: 0.6537 - accuracy: 0.6152 - val_loss: 0.6564 - val_accuracy: 0.6074\n",
      "Epoch 3/30\n",
      "309/309 [==============================] - 147s 475ms/step - loss: 0.6486 - accuracy: 0.6227 - val_loss: 0.6438 - val_accuracy: 0.6282\n",
      "Epoch 4/30\n",
      "309/309 [==============================] - 148s 479ms/step - loss: 0.6437 - accuracy: 0.6291 - val_loss: 0.6442 - val_accuracy: 0.6468\n",
      "Epoch 5/30\n",
      "309/309 [==============================] - 148s 478ms/step - loss: 0.6418 - accuracy: 0.6316 - val_loss: 0.6276 - val_accuracy: 0.6483\n",
      "Epoch 6/30\n",
      "309/309 [==============================] - 152s 491ms/step - loss: 0.6375 - accuracy: 0.6355 - val_loss: 0.6281 - val_accuracy: 0.6500\n",
      "Epoch 7/30\n",
      "309/309 [==============================] - 148s 480ms/step - loss: 0.6365 - accuracy: 0.6388 - val_loss: 0.6275 - val_accuracy: 0.6512\n",
      "Epoch 8/30\n",
      "309/309 [==============================] - 148s 480ms/step - loss: 0.6340 - accuracy: 0.6402 - val_loss: 0.6366 - val_accuracy: 0.6509\n",
      "Epoch 9/30\n",
      "309/309 [==============================] - 154s 497ms/step - loss: 0.6330 - accuracy: 0.6421 - val_loss: 0.6289 - val_accuracy: 0.6495\n",
      "Epoch 10/30\n",
      "309/309 [==============================] - 149s 482ms/step - loss: 0.6298 - accuracy: 0.6447 - val_loss: 0.6249 - val_accuracy: 0.6583\n",
      "Epoch 11/30\n",
      "309/309 [==============================] - 148s 479ms/step - loss: 0.6277 - accuracy: 0.6479 - val_loss: 0.6221 - val_accuracy: 0.6568\n",
      "Epoch 12/30\n",
      "309/309 [==============================] - 149s 481ms/step - loss: 0.6275 - accuracy: 0.6488 - val_loss: 0.6374 - val_accuracy: 0.6414\n",
      "Epoch 13/30\n",
      "309/309 [==============================] - 151s 489ms/step - loss: 0.6253 - accuracy: 0.6510 - val_loss: 0.6219 - val_accuracy: 0.6579\n",
      "Epoch 14/30\n",
      "309/309 [==============================] - 149s 482ms/step - loss: 0.6246 - accuracy: 0.6507 - val_loss: 0.6356 - val_accuracy: 0.6413\n",
      "Epoch 15/30\n",
      "309/309 [==============================] - 148s 478ms/step - loss: 0.6220 - accuracy: 0.6528 - val_loss: 0.6174 - val_accuracy: 0.6643\n",
      "Epoch 16/30\n",
      "309/309 [==============================] - 150s 484ms/step - loss: 0.6217 - accuracy: 0.6545 - val_loss: 0.6194 - val_accuracy: 0.6643\n",
      "Epoch 17/30\n",
      "309/309 [==============================] - 148s 480ms/step - loss: 0.6186 - accuracy: 0.6567 - val_loss: 0.6188 - val_accuracy: 0.6643\n",
      "Epoch 18/30\n",
      "309/309 [==============================] - 150s 487ms/step - loss: 0.6182 - accuracy: 0.6569 - val_loss: 0.6155 - val_accuracy: 0.6654\n",
      "Epoch 19/30\n",
      "309/309 [==============================] - 150s 485ms/step - loss: 0.6159 - accuracy: 0.6584 - val_loss: 0.6236 - val_accuracy: 0.6586\n",
      "Epoch 20/30\n",
      "309/309 [==============================] - 152s 492ms/step - loss: 0.6149 - accuracy: 0.6596 - val_loss: 0.6174 - val_accuracy: 0.6626\n",
      "Epoch 21/30\n",
      "309/309 [==============================] - 151s 489ms/step - loss: 0.6163 - accuracy: 0.6590 - val_loss: 0.6212 - val_accuracy: 0.6611\n",
      "Epoch 22/30\n",
      "309/309 [==============================] - 150s 484ms/step - loss: 0.6143 - accuracy: 0.6612 - val_loss: 0.6160 - val_accuracy: 0.6663\n",
      "Epoch 23/30\n",
      "309/309 [==============================] - 150s 485ms/step - loss: 0.6128 - accuracy: 0.6630 - val_loss: 0.6165 - val_accuracy: 0.6640\n",
      "Epoch 24/30\n",
      "309/309 [==============================] - 150s 485ms/step - loss: 0.6127 - accuracy: 0.6625 - val_loss: 0.6125 - val_accuracy: 0.6688\n",
      "Epoch 25/30\n",
      "309/309 [==============================] - 150s 486ms/step - loss: 0.6100 - accuracy: 0.6641 - val_loss: 0.6138 - val_accuracy: 0.6657\n",
      "Epoch 26/30\n",
      "309/309 [==============================] - 149s 484ms/step - loss: 0.6113 - accuracy: 0.6634 - val_loss: 0.6121 - val_accuracy: 0.6694\n",
      "Epoch 27/30\n",
      "309/309 [==============================] - 150s 485ms/step - loss: 0.6098 - accuracy: 0.6644 - val_loss: 0.6166 - val_accuracy: 0.6630\n",
      "Epoch 28/30\n",
      "309/309 [==============================] - 150s 484ms/step - loss: 0.6087 - accuracy: 0.6661 - val_loss: 0.6101 - val_accuracy: 0.6708\n",
      "Epoch 29/30\n",
      "309/309 [==============================] - 150s 485ms/step - loss: 0.6081 - accuracy: 0.6663 - val_loss: 0.6112 - val_accuracy: 0.6703\n",
      "Epoch 30/30\n",
      "309/309 [==============================] - 150s 484ms/step - loss: 0.6090 - accuracy: 0.6656 - val_loss: 0.6165 - val_accuracy: 0.6651\n"
     ]
    }
   ],
   "source": [
    "model.compile(optimizer='adam',\n",
    "              loss='binary_crossentropy',\n",
    "              metrics=['accuracy'])\n",
    "history= model.fit(X_train, Y_train, validation_data=(X_val, Y_val), epochs=30)"
   ]
  },
  {
   "cell_type": "code",
   "execution_count": 72,
   "id": "5e514730",
   "metadata": {},
   "outputs": [
    {
     "data": {
      "image/png": "[encoded data removed]",
      "text/plain": [
       "<Figure size 432x288 with 1 Axes>"
      ]
     },
     "metadata": {
      "needs_background": "light"
     },
     "output_type": "display_data"
    },
    {
     "data": {
      "image/png": "[encoded data removed]",
      "text/plain": [
       "<Figure size 432x288 with 1 Axes>"
      ]
     },
     "metadata": {
      "needs_background": "light"
     },
     "output_type": "display_data"
    }
   ],
   "source": [
    "acc = history.history['accuracy']\n",
    "val_acc = history.history['val_accuracy']\n",
    "loss = history.history['loss']\n",
    "val_loss = history.history['val_loss']\n",
    "\n",
    "\n",
    "import matplotlib.pyplot as plt\n",
    "\n",
    "epochs = range(1, len(acc) + 1)\n",
    "\n",
    "plt.plot(epochs, acc, label='Training acc')\n",
    "plt.plot(epochs, val_acc, label='Validation acc')\n",
    "plt.title('Training and validation accuracy')\n",
    "plt.legend()\n",
    "\n",
    "plt.figure()\n",
    "\n",
    "plt.plot(epochs, loss, label='Training loss')\n",
    "plt.plot(epochs, val_loss, label='Validation loss')\n",
    "plt.title('Training and validation loss')\n",
    "plt.legend()\n",
    "\n",
    "plt.show()"
   ]
  },
  {
   "cell_type": "code",
   "execution_count": 73,
   "id": "bd329a0b",
   "metadata": {},
   "outputs": [
    {
     "name": "stdout",
     "output_type": "stream",
     "text": [
      "[[162 700]\n",
      " [109 294]]\n"
     ]
    }
   ],
   "source": [
    "y_pred = np.around(model.predict(test_data.tweet))\n",
    "#Generate the confusion matrix\n",
    "cf_matrix = confusion_matrix(np.array(test_data.OFF), y_pred[:,-1,:].flatten())\n",
    "\n",
    "print(cf_matrix)"
   ]
  },
  {
   "cell_type": "code",
   "execution_count": 74,
   "id": "c3f72816",
   "metadata": {},
   "outputs": [
    {
     "data": {
      "text/plain": [
       "<AxesSubplot:>"
      ]
     },
     "execution_count": 74,
     "metadata": {},
     "output_type": "execute_result"
    },
    {
     "data": {
      "image/png": "[encoded data removed]",
      "text/plain": [
       "<Figure size 720x504 with 2 Axes>"
      ]
     },
     "metadata": {
      "needs_background": "light"
     },
     "output_type": "display_data"
    }
   ],
   "source": [
    "plt.figure(figsize = (10,7))\n",
    "sn.heatmap(cf_matrix, annot=True,cmap='Blues', fmt='g')"
   ]
  },
  {
   "cell_type": "code",
   "execution_count": 75,
   "id": "74d7a9c8",
   "metadata": {},
   "outputs": [
    {
     "name": "stdout",
     "output_type": "stream",
     "text": [
      "              precision    recall  f1-score   support\n",
      "\n",
      "         off       0.60      0.19      0.29       862\n",
      "         not       0.30      0.73      0.42       403\n",
      "\n",
      "    accuracy                           0.36      1265\n",
      "   macro avg       0.45      0.46      0.35      1265\n",
      "weighted avg       0.50      0.36      0.33      1265\n",
      "\n"
     ]
    }
   ],
   "source": [
    "target_names = ['off', 'not']\n",
    "print(classification_report(np.array(test_data.OFF),  y_pred[:,-1,:].flatten(),target_names=target_names))"
   ]
  },
  {
   "cell_type": "code",
   "execution_count": null,
   "id": "7910c378",
   "metadata": {},
   "outputs": [],
   "source": []
  }
 ],
 "metadata": {
  "kernelspec": {
   "display_name": "Python 3 (ipykernel)",
   "language": "python",
   "name": "python3"
  },
  "language_info": {
   "codemirror_mode": {
    "name": "ipython",
    "version": 3
   },
   "file_extension": ".py",
   "mimetype": "text/x-python",
   "name": "python",
   "nbconvert_exporter": "python",
   "pygments_lexer": "ipython3",
   "version": "3.9.7"
  }
 },
 "nbformat": 4,
 "nbformat_minor": 5
}
