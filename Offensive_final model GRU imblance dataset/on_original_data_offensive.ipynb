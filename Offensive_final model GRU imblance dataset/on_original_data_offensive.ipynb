{
 "cells": [
  {
   "cell_type": "code",
   "execution_count": 84,
   "id": "d37dfdb4",
   "metadata": {},
   "outputs": [],
   "source": [
    "import numpy as np # linear algebra\n",
    "import pandas as pd # data processing, CSV file I/O (e.g. pd.read_csv)\n",
    "from tqdm import tqdm\n",
    "from sklearn.model_selection import train_test_split\n",
    "import tensorflow as tf\n",
    "from keras.models import Sequential\n",
    "from keras.layers.recurrent import LSTM, GRU,SimpleRNN\n",
    "from keras.layers.core import Dense, Activation, Dropout\n",
    "from keras.layers.embeddings import Embedding\n",
    "from keras.layers.normalization import batch_normalization\n",
    "from keras.utils import np_utils\n",
    "from sklearn import preprocessing, decomposition, model_selection, metrics, pipeline\n",
    "from keras.layers import GlobalMaxPooling1D, Conv1D, MaxPooling1D, Flatten, Bidirectional, SpatialDropout1D\n",
    "from keras.preprocessing import sequence, text\n",
    "from keras.callbacks import EarlyStopping\n",
    "\n",
    "import pickle\n",
    "\n",
    "import matplotlib.pyplot as plt"
   ]
  },
  {
   "cell_type": "code",
   "execution_count": 75,
   "id": "dab0eaa5",
   "metadata": {
    "scrolled": false
   },
   "outputs": [
    {
     "data": {
      "text/html": [
       "<div>\n",
       "<style scoped>\n",
       "    .dataframe tbody tr th:only-of-type {\n",
       "        vertical-align: middle;\n",
       "    }\n",
       "\n",
       "    .dataframe tbody tr th {\n",
       "        vertical-align: top;\n",
       "    }\n",
       "\n",
       "    .dataframe thead th {\n",
       "        text-align: right;\n",
       "    }\n",
       "</style>\n",
       "<table border=\"1\" class=\"dataframe\">\n",
       "  <thead>\n",
       "    <tr style=\"text-align: right;\">\n",
       "      <th></th>\n",
       "      <th>Unnamed: 0</th>\n",
       "      <th>tweet</th>\n",
       "      <th>offensive</th>\n",
       "      <th>vlg</th>\n",
       "      <th>vio</th>\n",
       "      <th>HS_HS1</th>\n",
       "      <th>HS_HS2</th>\n",
       "      <th>HS_HS3</th>\n",
       "      <th>HS_HS5</th>\n",
       "      <th>HS_HS6</th>\n",
       "      <th>HS_NOT_HS</th>\n",
       "    </tr>\n",
       "  </thead>\n",
       "  <tbody>\n",
       "    <tr>\n",
       "      <th>0</th>\n",
       "      <td>0</td>\n",
       "      <td>مستخدم ردينا ع التطنز  وجه مبتسم باستهزاء  قبض...</td>\n",
       "      <td>1</td>\n",
       "      <td>0</td>\n",
       "      <td>0</td>\n",
       "      <td>0</td>\n",
       "      <td>0</td>\n",
       "      <td>0</td>\n",
       "      <td>0</td>\n",
       "      <td>0</td>\n",
       "      <td>1</td>\n",
       "    </tr>\n",
       "    <tr>\n",
       "      <th>1</th>\n",
       "      <td>1</td>\n",
       "      <td>وصارت فطاير البقالات غذاء صحي  ابهام متجه لاسفل 🏻</td>\n",
       "      <td>0</td>\n",
       "      <td>0</td>\n",
       "      <td>0</td>\n",
       "      <td>0</td>\n",
       "      <td>0</td>\n",
       "      <td>0</td>\n",
       "      <td>0</td>\n",
       "      <td>0</td>\n",
       "      <td>1</td>\n",
       "    </tr>\n",
       "    <tr>\n",
       "      <th>2</th>\n",
       "      <td>2</td>\n",
       "      <td>مستخدم روحي لبريده تلقين اشباه كثير بس ماحد زي...</td>\n",
       "      <td>1</td>\n",
       "      <td>0</td>\n",
       "      <td>0</td>\n",
       "      <td>0</td>\n",
       "      <td>0</td>\n",
       "      <td>0</td>\n",
       "      <td>0</td>\n",
       "      <td>0</td>\n",
       "      <td>1</td>\n",
       "    </tr>\n",
       "    <tr>\n",
       "      <th>3</th>\n",
       "      <td>3</td>\n",
       "      <td>مستخدم مش باين حاجه خالص  وجه منصدم مش عارف بق...</td>\n",
       "      <td>0</td>\n",
       "      <td>0</td>\n",
       "      <td>0</td>\n",
       "      <td>0</td>\n",
       "      <td>0</td>\n",
       "      <td>0</td>\n",
       "      <td>0</td>\n",
       "      <td>0</td>\n",
       "      <td>1</td>\n",
       "    </tr>\n",
       "    <tr>\n",
       "      <th>4</th>\n",
       "      <td>4</td>\n",
       "      <td>اليوم الاثنين تصفيق  يقولك من المسلمين عندهم خ...</td>\n",
       "      <td>0</td>\n",
       "      <td>0</td>\n",
       "      <td>0</td>\n",
       "      <td>0</td>\n",
       "      <td>0</td>\n",
       "      <td>0</td>\n",
       "      <td>0</td>\n",
       "      <td>0</td>\n",
       "      <td>1</td>\n",
       "    </tr>\n",
       "  </tbody>\n",
       "</table>\n",
       "</div>"
      ],
      "text/plain": [
       "   Unnamed: 0                                              tweet  offensive  \\\n",
       "0           0  مستخدم ردينا ع التطنز  وجه مبتسم باستهزاء  قبض...          1   \n",
       "1           1  وصارت فطاير البقالات غذاء صحي  ابهام متجه لاسفل 🏻          0   \n",
       "2           2  مستخدم روحي لبريده تلقين اشباه كثير بس ماحد زي...          1   \n",
       "3           3  مستخدم مش باين حاجه خالص  وجه منصدم مش عارف بق...          0   \n",
       "4           4  اليوم الاثنين تصفيق  يقولك من المسلمين عندهم خ...          0   \n",
       "\n",
       "   vlg  vio  HS_HS1  HS_HS2  HS_HS3  HS_HS5  HS_HS6  HS_NOT_HS  \n",
       "0    0    0       0       0       0       0       0          1  \n",
       "1    0    0       0       0       0       0       0          1  \n",
       "2    0    0       0       0       0       0       0          1  \n",
       "3    0    0       0       0       0       0       0          1  \n",
       "4    0    0       0       0       0       0       0          1  "
      ]
     },
     "execution_count": 75,
     "metadata": {},
     "output_type": "execute_result"
    }
   ],
   "source": [
    "data =pd.read_csv(\"train_data_5.csv\")\n",
    "data.head()"
   ]
  },
  {
   "cell_type": "code",
   "execution_count": 76,
   "id": "6a29a2b9",
   "metadata": {},
   "outputs": [
    {
     "data": {
      "text/plain": [
       "8556"
      ]
     },
     "execution_count": 76,
     "metadata": {},
     "output_type": "execute_result"
    }
   ],
   "source": [
    "len(data)"
   ]
  },
  {
   "cell_type": "code",
   "execution_count": 97,
   "id": "e86c2c9e",
   "metadata": {},
   "outputs": [
    {
     "data": {
      "text/plain": [
       "((7529,), (1027,))"
      ]
     },
     "execution_count": 97,
     "metadata": {},
     "output_type": "execute_result"
    }
   ],
   "source": [
    "X_train, X_test, y_train, y_test = train_test_split(data.tweet, data.offensive, test_size=0.12)\n",
    "X_train.shape,X_test.shape"
   ]
  },
  {
   "cell_type": "code",
   "execution_count": 98,
   "id": "dbbadfc4",
   "metadata": {},
   "outputs": [
    {
     "data": {
      "text/plain": [
       "179"
      ]
     },
     "execution_count": 98,
     "metadata": {},
     "output_type": "execute_result"
    }
   ],
   "source": [
    "max_length= data.tweet.apply(lambda x: len(str(x).split())).max()\n",
    "max_length"
   ]
  },
  {
   "cell_type": "code",
   "execution_count": 99,
   "id": "aa16c184",
   "metadata": {},
   "outputs": [],
   "source": [
    "# Using Keras Tokenizer:\n",
    "from keras.preprocessing.text import Tokenizer\n",
    "from keras.preprocessing.sequence import pad_sequences\n",
    "token = Tokenizer()\n",
    "\n",
    "token.fit_on_texts(list(X_train))"
   ]
  },
  {
   "cell_type": "code",
   "execution_count": 100,
   "id": "d18d276b",
   "metadata": {},
   "outputs": [],
   "source": [
    "xtrain_seq = token.texts_to_sequences(X_train)\n",
    "xtrain_pad = pad_sequences(xtrain_seq, maxlen=max_length)\n"
   ]
  },
  {
   "cell_type": "code",
   "execution_count": 168,
   "id": "2f52a7f9",
   "metadata": {
    "scrolled": true
   },
   "outputs": [
    {
     "data": {
      "text/plain": [
       "'مستخدم وش قلة الادب هذي  وجه مندهش  وجه بقناع طبي '"
      ]
     },
     "execution_count": 168,
     "metadata": {},
     "output_type": "execute_result"
    }
   ],
   "source": [
    "X_train[100]"
   ]
  },
  {
   "cell_type": "code",
   "execution_count": 169,
   "id": "cfeccf0a",
   "metadata": {},
   "outputs": [
    {
     "data": {
      "text/plain": [
       "[257, 2713, 9103, 228, 9104, 109, 5189, 9105, 2714, 1, 444, 4, 5, 6]"
      ]
     },
     "execution_count": 169,
     "metadata": {},
     "output_type": "execute_result"
    }
   ],
   "source": [
    "xtrain_seq[100]"
   ]
  },
  {
   "cell_type": "code",
   "execution_count": 170,
   "id": "2ea58f4b",
   "metadata": {},
   "outputs": [
    {
     "data": {
      "text/plain": [
       "array([   0,    0,    0,    0,    0,    0,    0,    0,    0,    0,    0,\n",
       "          0,    0,    0,    0,    0,    0,    0,    0,    0,    0,    0,\n",
       "          0,    0,    0,    0,    0,    0,    0,    0,    0,    0,    0,\n",
       "          0,    0,    0,    0,    0,    0,    0,    0,    0,    0,    0,\n",
       "          0,    0,    0,    0,    0,    0,    0,    0,    0,    0,    0,\n",
       "          0,    0,    0,    0,    0,    0,    0,    0,    0,    0,    0,\n",
       "          0,    0,    0,    0,    0,    0,    0,    0,    0,    0,    0,\n",
       "          0,    0,    0,    0,    0,    0,    0,    0,    0,    0,    0,\n",
       "          0,    0,    0,    0,    0,    0,    0,    0,    0,    0,    0,\n",
       "          0,    0,    0,    0,    0,    0,    0,    0,    0,    0,    0,\n",
       "          0,    0,    0,    0,    0,    0,    0,    0,    0,    0,    0,\n",
       "          0,    0,    0,    0,    0,    0,    0,    0,    0,    0,    0,\n",
       "          0,    0,    0,    0,    0,    0,    0,    0,    0,    0,    0,\n",
       "          0,    0,    0,    0,    0,    0,    0,    0,    0,    0,    0,\n",
       "          0,    0,    0,    0,    0,    0,    0,    0,    0,    0,    0,\n",
       "        257, 2713, 9103,  228, 9104,  109, 5189, 9105, 2714,    1,  444,\n",
       "          4,    5,    6])"
      ]
     },
     "execution_count": 170,
     "metadata": {},
     "output_type": "execute_result"
    }
   ],
   "source": [
    "xtrain_pad[100]"
   ]
  },
  {
   "cell_type": "code",
   "execution_count": 102,
   "id": "ccc96bb9",
   "metadata": {},
   "outputs": [],
   "source": [
    "word_index = token.word_index\n",
    "vocab_size=len(word_index)+1"
   ]
  },
  {
   "cell_type": "code",
   "execution_count": 104,
   "id": "37aef7a1",
   "metadata": {},
   "outputs": [],
   "source": [
    "embeded_vector_size = 128\n",
    "\n",
    "model = Sequential()\n",
    "model.add(Embedding(vocab_size, embeded_vector_size, input_length=max_length,name=\"embedding\"))\n",
    "model.add(Flatten())\n",
    "\n",
    "model.add(Dense(1, activation='sigmoid'))"
   ]
  },
  {
   "cell_type": "code",
   "execution_count": 105,
   "id": "7d869e57",
   "metadata": {},
   "outputs": [
    {
     "name": "stdout",
     "output_type": "stream",
     "text": [
      "Model: \"sequential_3\"\n",
      "_________________________________________________________________\n",
      " Layer (type)                Output Shape              Param #   \n",
      "=================================================================\n",
      " embedding (Embedding)       (None, 179, 128)          3715456   \n",
      "                                                                 \n",
      " flatten_2 (Flatten)         (None, 22912)             0         \n",
      "                                                                 \n",
      " dense_1 (Dense)             (None, 1)                 22913     \n",
      "                                                                 \n",
      "=================================================================\n",
      "Total params: 3,738,369\n",
      "Trainable params: 3,738,369\n",
      "Non-trainable params: 0\n",
      "_________________________________________________________________\n",
      "None\n"
     ]
    }
   ],
   "source": [
    "model.compile(optimizer='adam', loss='binary_crossentropy', metrics=['accuracy'])\n",
    "print(model.summary())"
   ]
  },
  {
   "cell_type": "code",
   "execution_count": 106,
   "id": "bcb6f91b",
   "metadata": {},
   "outputs": [
    {
     "name": "stdout",
     "output_type": "stream",
     "text": [
      "Epoch 1/30\n",
      "236/236 [==============================] - 2s 7ms/step - loss: 0.5913 - accuracy: 0.6879\n",
      "Epoch 2/30\n",
      "236/236 [==============================] - 1s 5ms/step - loss: 0.3713 - accuracy: 0.8507\n",
      "Epoch 3/30\n",
      "236/236 [==============================] - 1s 5ms/step - loss: 0.1515 - accuracy: 0.9576\n",
      "Epoch 4/30\n",
      "236/236 [==============================] - 1s 5ms/step - loss: 0.0651 - accuracy: 0.9863\n",
      "Epoch 5/30\n",
      "236/236 [==============================] - 1s 5ms/step - loss: 0.0341 - accuracy: 0.9943\n",
      "Epoch 6/30\n",
      "236/236 [==============================] - 1s 5ms/step - loss: 0.0210 - accuracy: 0.9968\n",
      "Epoch 7/30\n",
      "236/236 [==============================] - 1s 5ms/step - loss: 0.0137 - accuracy: 0.9989\n",
      "Epoch 8/30\n",
      "236/236 [==============================] - 1s 5ms/step - loss: 0.0096 - accuracy: 0.9993\n",
      "Epoch 9/30\n",
      "236/236 [==============================] - 1s 6ms/step - loss: 0.0079 - accuracy: 0.9991\n",
      "Epoch 10/30\n",
      "236/236 [==============================] - 1s 5ms/step - loss: 0.0060 - accuracy: 0.9992\n",
      "Epoch 11/30\n",
      "236/236 [==============================] - 1s 5ms/step - loss: 0.0046 - accuracy: 0.9992\n",
      "Epoch 12/30\n",
      "236/236 [==============================] - 1s 5ms/step - loss: 0.0034 - accuracy: 0.9995\n",
      "Epoch 13/30\n",
      "236/236 [==============================] - 1s 5ms/step - loss: 0.0025 - accuracy: 0.9996\n",
      "Epoch 14/30\n",
      "236/236 [==============================] - 1s 5ms/step - loss: 0.0021 - accuracy: 0.9999\n",
      "Epoch 15/30\n",
      "236/236 [==============================] - 1s 6ms/step - loss: 0.0019 - accuracy: 0.9997\n",
      "Epoch 16/30\n",
      "236/236 [==============================] - 1s 5ms/step - loss: 0.0014 - accuracy: 0.9999\n",
      "Epoch 17/30\n",
      "236/236 [==============================] - 1s 5ms/step - loss: 0.0013 - accuracy: 0.9999\n",
      "Epoch 18/30\n",
      "236/236 [==============================] - 1s 5ms/step - loss: 9.7849e-04 - accuracy: 1.0000\n",
      "Epoch 19/30\n",
      "236/236 [==============================] - 1s 5ms/step - loss: 9.4784e-04 - accuracy: 0.9999\n",
      "Epoch 20/30\n",
      "236/236 [==============================] - 1s 5ms/step - loss: 0.0010 - accuracy: 0.9997\n",
      "Epoch 21/30\n",
      "236/236 [==============================] - 1s 5ms/step - loss: 6.4608e-04 - accuracy: 1.0000\n",
      "Epoch 22/30\n",
      "236/236 [==============================] - 1s 5ms/step - loss: 4.8365e-04 - accuracy: 1.0000\n",
      "Epoch 23/30\n",
      "236/236 [==============================] - 1s 5ms/step - loss: 5.0361e-04 - accuracy: 1.0000\n",
      "Epoch 24/30\n",
      "236/236 [==============================] - 1s 5ms/step - loss: 3.7892e-04 - accuracy: 1.0000\n",
      "Epoch 25/30\n",
      "236/236 [==============================] - 1s 5ms/step - loss: 4.0427e-04 - accuracy: 1.0000\n",
      "Epoch 26/30\n",
      "236/236 [==============================] - 1s 5ms/step - loss: 2.7447e-04 - accuracy: 1.0000\n",
      "Epoch 27/30\n",
      "236/236 [==============================] - 1s 6ms/step - loss: 2.2703e-04 - accuracy: 1.0000\n",
      "Epoch 28/30\n",
      "236/236 [==============================] - 1s 5ms/step - loss: 2.1373e-04 - accuracy: 1.0000\n",
      "Epoch 29/30\n",
      "236/236 [==============================] - 1s 5ms/step - loss: 1.7651e-04 - accuracy: 1.0000\n",
      "Epoch 30/30\n",
      "236/236 [==============================] - 1s 5ms/step - loss: 1.5410e-04 - accuracy: 1.0000\n"
     ]
    },
    {
     "data": {
      "text/plain": [
       "<keras.callbacks.History at 0x1c998208c40>"
      ]
     },
     "execution_count": 106,
     "metadata": {},
     "output_type": "execute_result"
    }
   ],
   "source": [
    "model.fit(xtrain_pad, y_train, epochs=30)"
   ]
  },
  {
   "cell_type": "code",
   "execution_count": 107,
   "id": "786a4491",
   "metadata": {},
   "outputs": [
    {
     "data": {
      "text/plain": [
       "29027"
      ]
     },
     "execution_count": 107,
     "metadata": {},
     "output_type": "execute_result"
    }
   ],
   "source": [
    "weights = model.get_layer('embedding').get_weights()[0]\n",
    "len(weights)"
   ]
  },
  {
   "cell_type": "code",
   "execution_count": 109,
   "id": "c826c323",
   "metadata": {},
   "outputs": [
    {
     "data": {
      "text/plain": [
       "((979,), (1027,))"
      ]
     },
     "execution_count": 109,
     "metadata": {},
     "output_type": "execute_result"
    }
   ],
   "source": [
    "X_train, X_val, y_train, y_val = train_test_split(X_train, y_train, test_size=0.13)\n",
    "X_val.shape,X_test.shape"
   ]
  },
  {
   "cell_type": "code",
   "execution_count": 156,
   "id": "6fe5e940",
   "metadata": {},
   "outputs": [],
   "source": [
    "token = Tokenizer()\n",
    "token.fit_on_texts(list(X_train) + list(X_val))"
   ]
  },
  {
   "cell_type": "code",
   "execution_count": 157,
   "id": "3f8bbd87",
   "metadata": {},
   "outputs": [],
   "source": [
    "word_index = token.word_index\n",
    "vocab_size=len(word_index)+1"
   ]
  },
  {
   "cell_type": "code",
   "execution_count": 115,
   "id": "4145ed92",
   "metadata": {},
   "outputs": [],
   "source": [
    "xtrain_seq = token.texts_to_sequences(X_train)\n",
    "xvalid_seq = token.texts_to_sequences(X_val)\n",
    "xtrain_pad = pad_sequences(xtrain_seq, maxlen=max_length)\n",
    "xvalid_pad = pad_sequences(xvalid_seq, maxlen=max_length)"
   ]
  },
  {
   "cell_type": "code",
   "execution_count": 116,
   "id": "53e12c9d",
   "metadata": {},
   "outputs": [
    {
     "name": "stdout",
     "output_type": "stream",
     "text": [
      "Model: \"sequential_7\"\n",
      "_________________________________________________________________\n",
      " Layer (type)                Output Shape              Param #   \n",
      "=================================================================\n",
      " embedding_2 (Embedding)     (None, 179, 128)          3715456   \n",
      "                                                                 \n",
      " spatial_dropout1d_1 (Spatia  (None, 179, 128)         0         \n",
      " lDropout1D)                                                     \n",
      "                                                                 \n",
      " gru_1 (GRU)                 (None, 300)               386100    \n",
      "                                                                 \n",
      " dense_3 (Dense)             (None, 1)                 301       \n",
      "                                                                 \n",
      "=================================================================\n",
      "Total params: 4,101,857\n",
      "Trainable params: 386,401\n",
      "Non-trainable params: 3,715,456\n",
      "_________________________________________________________________\n"
     ]
    }
   ],
   "source": [
    "model = Sequential()\n",
    "model.add(Embedding(vocab_size,\n",
    "                     128,\n",
    "                     weights=[weights],\n",
    "                     input_length=max_length,\n",
    "                     trainable=False))\n",
    "model.add(SpatialDropout1D(0.3))\n",
    "model.add(GRU(300))\n",
    "model.add(Dense(1, activation='sigmoid'))\n",
    "model.compile(loss='binary_crossentropy', optimizer='adam',metrics=['accuracy'])   \n",
    "    \n",
    "model.summary()"
   ]
  },
  {
   "cell_type": "code",
   "execution_count": 119,
   "id": "c85f98fa",
   "metadata": {},
   "outputs": [
    {
     "name": "stdout",
     "output_type": "stream",
     "text": [
      "Epoch 1/10\n",
      "205/205 [==============================] - 196s 955ms/step - loss: 0.5775 - accuracy: 0.7020 - val_loss: 0.5577 - val_accuracy: 0.7222\n",
      "Epoch 2/10\n",
      "205/205 [==============================] - 195s 949ms/step - loss: 0.5725 - accuracy: 0.7099 - val_loss: 0.5628 - val_accuracy: 0.7068\n",
      "Epoch 3/10\n",
      "205/205 [==============================] - 196s 955ms/step - loss: 0.5646 - accuracy: 0.7098 - val_loss: 0.5538 - val_accuracy: 0.7120\n",
      "Epoch 4/10\n",
      "205/205 [==============================] - 199s 970ms/step - loss: 0.5672 - accuracy: 0.7079 - val_loss: 0.5574 - val_accuracy: 0.7201\n",
      "Epoch 5/10\n",
      "205/205 [==============================] - 196s 955ms/step - loss: 0.5573 - accuracy: 0.7185 - val_loss: 0.5764 - val_accuracy: 0.6864\n",
      "Epoch 6/10\n",
      "205/205 [==============================] - 194s 945ms/step - loss: 0.5541 - accuracy: 0.7263 - val_loss: 0.5748 - val_accuracy: 0.7007\n",
      "Epoch 7/10\n",
      "205/205 [==============================] - 196s 954ms/step - loss: 0.5480 - accuracy: 0.7279 - val_loss: 0.5680 - val_accuracy: 0.7099\n",
      "Epoch 8/10\n",
      "205/205 [==============================] - 198s 967ms/step - loss: 0.5531 - accuracy: 0.7212 - val_loss: 0.5661 - val_accuracy: 0.7028\n",
      "Epoch 9/10\n",
      "205/205 [==============================] - 197s 962ms/step - loss: 0.5435 - accuracy: 0.7281 - val_loss: 0.5822 - val_accuracy: 0.7058\n",
      "Epoch 10/10\n",
      "205/205 [==============================] - 196s 955ms/step - loss: 0.5585 - accuracy: 0.7165 - val_loss: 0.5776 - val_accuracy: 0.6854\n"
     ]
    }
   ],
   "source": [
    "history=model.fit(xtrain_pad, y_train, validation_data=[xvalid_pad,y_val],epochs = 10)\n"
   ]
  },
  {
   "cell_type": "code",
   "execution_count": 121,
   "id": "5beacb8d",
   "metadata": {},
   "outputs": [
    {
     "name": "stdout",
     "output_type": "stream",
     "text": [
      "INFO:tensorflow:Assets written to: GRU_original_data_offensive\\assets\n"
     ]
    },
    {
     "name": "stderr",
     "output_type": "stream",
     "text": [
      "INFO:tensorflow:Assets written to: GRU_original_data_offensive\\assets\n",
      "WARNING:absl:<keras.layers.recurrent.GRU object at 0x000001C9A450E520> has the same name 'GRU' as a built-in Keras object. Consider renaming <class 'keras.layers.recurrent.GRU'> to avoid naming conflicts when loading with `tf.keras.models.load_model`. If renaming is not possible, pass the object in the `custom_objects` parameter of the load function.\n",
      "WARNING:absl:<keras.layers.recurrent.GRUCell object at 0x000001C9A450E550> has the same name 'GRUCell' as a built-in Keras object. Consider renaming <class 'keras.layers.recurrent.GRUCell'> to avoid naming conflicts when loading with `tf.keras.models.load_model`. If renaming is not possible, pass the object in the `custom_objects` parameter of the load function.\n"
     ]
    }
   ],
   "source": [
    "model.save('GRU_original_data_offensive')"
   ]
  },
  {
   "cell_type": "code",
   "execution_count": 122,
   "id": "f250ab84",
   "metadata": {},
   "outputs": [],
   "source": [
    "pickle.dump(X_train, open('X_train', 'wb'))\n",
    "pickle.dump(y_train, open('y_train', 'wb'))\n",
    "\n",
    "pickle.dump(X_test, open('X_test', 'wb'))\n",
    "pickle.dump(y_test, open('y_test', 'wb'))\n",
    "\n",
    "pickle.dump(X_val, open('X_val', 'wb'))\n",
    "pickle.dump(y_val, open('y_val', 'wb'))\n",
    "\n",
    "pickle.dump(xtrain_pad, open('xtrain_pad', 'wb'))\n",
    "pickle.dump(xvalid_pad, open('xvalid_pad', 'wb'))\n"
   ]
  },
  {
   "cell_type": "code",
   "execution_count": 123,
   "id": "67749f20",
   "metadata": {},
   "outputs": [
    {
     "data": {
      "image/png": "[encoded data removed]",
      "text/plain": [
       "<Figure size 432x288 with 1 Axes>"
      ]
     },
     "metadata": {
      "needs_background": "light"
     },
     "output_type": "display_data"
    },
    {
     "data": {
      "image/png": "[encoded data removed]",
      "text/plain": [
       "<Figure size 432x288 with 1 Axes>"
      ]
     },
     "metadata": {
      "needs_background": "light"
     },
     "output_type": "display_data"
    }
   ],
   "source": [
    "acc = history.history['accuracy']\n",
    "val_acc = history.history['val_accuracy']\n",
    "loss = history.history['loss']\n",
    "val_loss = history.history['val_loss']\n",
    "\n",
    "\n",
    "import matplotlib.pyplot as plt\n",
    "\n",
    "epochs = range(1, len(acc) + 1)\n",
    "\n",
    "plt.plot(epochs, acc, label='Training acc')\n",
    "plt.plot(epochs, val_acc, label='Validation acc')\n",
    "plt.title('Training and validation accuracy')\n",
    "plt.legend()\n",
    "\n",
    "plt.figure()\n",
    "\n",
    "plt.plot(epochs, loss, label='Training loss')\n",
    "plt.plot(epochs, val_loss, label='Validation loss')\n",
    "plt.title('Training and validation loss')\n",
    "plt.legend()\n",
    "\n",
    "plt.show()"
   ]
  },
  {
   "cell_type": "code",
   "execution_count": 134,
   "id": "f6341231",
   "metadata": {},
   "outputs": [],
   "source": [
    "\n",
    "pred=model.predict(xvalid_pad)"
   ]
  },
  {
   "cell_type": "code",
   "execution_count": 136,
   "id": "ed49b2ba",
   "metadata": {},
   "outputs": [],
   "source": [
    "from sklearn.metrics import confusion_matrix\n",
    "import seaborn as sn\n",
    "from sklearn.metrics import classification_report"
   ]
  },
  {
   "cell_type": "code",
   "execution_count": 137,
   "id": "7d2daf3e",
   "metadata": {},
   "outputs": [
    {
     "name": "stdout",
     "output_type": "stream",
     "text": [
      "[[494 146]\n",
      " [162 177]]\n"
     ]
    }
   ],
   "source": [
    "pred = np.around(pred)\n",
    "#Generate the confusion matrix\n",
    "cf_matrix = confusion_matrix(y_val, pred)\n",
    "\n",
    "print(cf_matrix)"
   ]
  },
  {
   "cell_type": "code",
   "execution_count": 139,
   "id": "51030ab1",
   "metadata": {
    "scrolled": true
   },
   "outputs": [
    {
     "data": {
      "text/plain": [
       "<AxesSubplot:>"
      ]
     },
     "execution_count": 139,
     "metadata": {},
     "output_type": "execute_result"
    },
    {
     "data": {
      "image/png": "[encoded data removed]",
      "text/plain": [
       "<Figure size 720x504 with 2 Axes>"
      ]
     },
     "metadata": {
      "needs_background": "light"
     },
     "output_type": "display_data"
    }
   ],
   "source": [
    "plt.figure(figsize = (10,7))\n",
    "sn.heatmap(cf_matrix, annot=True,cmap='Blues', fmt='g')"
   ]
  },
  {
   "cell_type": "code",
   "execution_count": 140,
   "id": "8eac09d5",
   "metadata": {},
   "outputs": [
    {
     "name": "stdout",
     "output_type": "stream",
     "text": [
      "              precision    recall  f1-score   support\n",
      "\n",
      "         off       0.75      0.77      0.76       640\n",
      "         not       0.55      0.52      0.53       339\n",
      "\n",
      "    accuracy                           0.69       979\n",
      "   macro avg       0.65      0.65      0.65       979\n",
      "weighted avg       0.68      0.69      0.68       979\n",
      "\n"
     ]
    }
   ],
   "source": [
    "target_names = ['off', 'not']\n",
    "print(classification_report(y_val,  pred,target_names=target_names))"
   ]
  },
  {
   "cell_type": "code",
   "execution_count": 141,
   "id": "077490e4",
   "metadata": {},
   "outputs": [],
   "source": [
    "xtest_seq = token.texts_to_sequences(X_test)\n",
    "xtest_pad = pad_sequences(xtest_seq, maxlen=max_length)\n"
   ]
  },
  {
   "cell_type": "code",
   "execution_count": 143,
   "id": "3dc2585d",
   "metadata": {},
   "outputs": [
    {
     "name": "stdout",
     "output_type": "stream",
     "text": [
      "33/33 [==============================] - 6s 192ms/step - loss: 0.5913 - accuracy: 0.7050\n"
     ]
    },
    {
     "data": {
      "text/plain": [
       "[0.5912976861000061, 0.7049659490585327]"
      ]
     },
     "execution_count": 143,
     "metadata": {},
     "output_type": "execute_result"
    }
   ],
   "source": [
    "model.evaluate(xtest_pad,y_test)"
   ]
  },
  {
   "cell_type": "code",
   "execution_count": 142,
   "id": "7151a6ef",
   "metadata": {},
   "outputs": [],
   "source": [
    "y_pred=model.predict(xtest_pad)"
   ]
  },
  {
   "cell_type": "code",
   "execution_count": 144,
   "id": "6bf47f44",
   "metadata": {},
   "outputs": [
    {
     "name": "stdout",
     "output_type": "stream",
     "text": [
      "[[539 123]\n",
      " [180 185]]\n"
     ]
    }
   ],
   "source": [
    "y_pred = np.around(y_pred)\n",
    "#Generate the confusion matrix\n",
    "cf_matrix = confusion_matrix(y_test, y_pred)\n",
    "\n",
    "print(cf_matrix)"
   ]
  },
  {
   "cell_type": "code",
   "execution_count": 145,
   "id": "ee56fafd",
   "metadata": {
    "scrolled": true
   },
   "outputs": [
    {
     "data": {
      "text/plain": [
       "<AxesSubplot:>"
      ]
     },
     "execution_count": 145,
     "metadata": {},
     "output_type": "execute_result"
    },
    {
     "data": {
      "image/png": "[encoded data removed]",
      "text/plain": [
       "<Figure size 720x504 with 2 Axes>"
      ]
     },
     "metadata": {
      "needs_background": "light"
     },
     "output_type": "display_data"
    }
   ],
   "source": [
    "plt.figure(figsize = (10,7))\n",
    "sn.heatmap(cf_matrix, annot=True,cmap='Blues', fmt='g')"
   ]
  },
  {
   "cell_type": "code",
   "execution_count": 146,
   "id": "77f8dae7",
   "metadata": {
    "scrolled": true
   },
   "outputs": [
    {
     "name": "stdout",
     "output_type": "stream",
     "text": [
      "              precision    recall  f1-score   support\n",
      "\n",
      "         off       0.75      0.77      0.76       640\n",
      "         not       0.55      0.52      0.53       339\n",
      "\n",
      "    accuracy                           0.69       979\n",
      "   macro avg       0.65      0.65      0.65       979\n",
      "weighted avg       0.68      0.69      0.68       979\n",
      "\n"
     ]
    }
   ],
   "source": [
    "target_names = ['off', 'not']\n",
    "print(classification_report(y_val,  pred,target_names=target_names))"
   ]
  }
 ],
 "metadata": {
  "kernelspec": {
   "display_name": "Python 3 (ipykernel)",
   "language": "python",
   "name": "python3"
  },
  "language_info": {
   "codemirror_mode": {
    "name": "ipython",
    "version": 3
   },
   "file_extension": ".py",
   "mimetype": "text/x-python",
   "name": "python",
   "nbconvert_exporter": "python",
   "pygments_lexer": "ipython3",
   "version": "3.9.11"
  }
 },
 "nbformat": 4,
 "nbformat_minor": 5
}
